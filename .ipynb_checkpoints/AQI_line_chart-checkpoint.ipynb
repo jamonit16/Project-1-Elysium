{
  "nbformat": 4,
  "nbformat_minor": 0,
  "metadata": {
    "colab": {
      "provenance": [],
      "authorship_tag": "ABX9TyO3dwCZzQHg8mE+zMILKbaK",
      "include_colab_link": true
    },
    "kernelspec": {
      "name": "python3",
      "display_name": "Python 3"
    },
    "language_info": {
      "name": "python"
    }
  },
  "cells": [
    {
      "cell_type": "markdown",
      "metadata": {
        "id": "view-in-github",
        "colab_type": "text"
      },
      "source": [
        "<a href=\"https://colab.research.google.com/github/jamonit16/Project-1-Elysium/blob/main/AQI_line_chart.ipynb\" target=\"_parent\"><img src=\"https://colab.research.google.com/assets/colab-badge.svg\" alt=\"Open In Colab\"/></a>"
      ]
    },
    {
      "cell_type": "code",
      "source": [
        "!pip install requests"
      ],
      "metadata": {
        "colab": {
          "base_uri": "https://localhost:8080/"
        },
        "id": "WHPk2zcsbjzz",
        "outputId": "501f419e-39df-4d7f-8f91-e2d33b130ef3"
      },
      "execution_count": null,
      "outputs": [
        {
          "output_type": "stream",
          "name": "stdout",
          "text": [
            "Requirement already satisfied: requests in /usr/local/lib/python3.10/dist-packages (2.31.0)\n",
            "Requirement already satisfied: charset-normalizer<4,>=2 in /usr/local/lib/python3.10/dist-packages (from requests) (3.3.2)\n",
            "Requirement already satisfied: idna<4,>=2.5 in /usr/local/lib/python3.10/dist-packages (from requests) (3.7)\n",
            "Requirement already satisfied: urllib3<3,>=1.21.1 in /usr/local/lib/python3.10/dist-packages (from requests) (2.0.7)\n",
            "Requirement already satisfied: certifi>=2017.4.17 in /usr/local/lib/python3.10/dist-packages (from requests) (2024.7.4)\n"
          ]
        }
      ]
    },
    {
      "cell_type": "code",
      "source": [
        "import requests\n",
        "import pandas as pd\n",
        "\n",
        "\n",
        "api_key = 'greenhawk55'\n",
        "\n",
        "url = 'https://aqs.epa.gov/data/api/annualData/byCBSA'\n",
        "\n",
        "params = {\n",
        "    'email': 'massmediafan@gmail.com',\n",
        "    'key': api_key,\n",
        "    'param': '88101',\n",
        "    'bdate': '20230101',\n",
        "    'edate': '20231231',\n",
        "    'cbsa': '46140'\n",
        "}\n",
        "\n",
        "response = requests.get(url, params=params)\n",
        "\n",
        "data = response.json()\n",
        "\n",
        "df = pd.DataFrame(data['Data'])\n",
        "\n",
        "content = 'annual_data_Tulsa_2014.csv'\n",
        "df.to_csv(content, index=False)\n",
        "\n",
        "print(f\"Data has been saved to {content}\")"
      ],
      "metadata": {
        "colab": {
          "base_uri": "https://localhost:8080/"
        },
        "id": "k2f0wFdqcBLO",
        "outputId": "b9629f60-4687-4f30-9ce8-513ec862a8d5"
      },
      "execution_count": 6,
      "outputs": [
        {
          "output_type": "stream",
          "name": "stdout",
          "text": [
            "Data has been saved to annual_data_Tulsa_2014.csv\n"
          ]
        }
      ]
    },
    {
      "cell_type": "code",
      "source": [],
      "metadata": {
        "id": "iLrAH20Eeta5"
      },
      "execution_count": null,
      "outputs": []
    },
    {
      "cell_type": "markdown",
      "source": [],
      "metadata": {
        "id": "mT5mZkYves5J"
      }
    }
  ]
}