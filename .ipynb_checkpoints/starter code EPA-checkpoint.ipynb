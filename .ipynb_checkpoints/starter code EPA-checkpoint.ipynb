{
 "cells": [
  {
   "cell_type": "code",
   "execution_count": 1,
   "id": "8d5df16f",
   "metadata": {
    "lines_to_next_cell": 0
   },
   "outputs": [
    {
     "name": "stdout",
     "output_type": "stream",
     "text": [
      "Defaulting to user installation because normal site-packages is not writeable\n",
      "Requirement already satisfied: python-dotenv in c:\\programdata\\anaconda3\\lib\\site-packages (0.21.0)\n"
     ]
    }
   ],
   "source": [
    "!pip install python-dotenv"
   ]
  },
  {
   "cell_type": "code",
   "execution_count": 2,
   "id": "d7263689",
   "metadata": {},
   "outputs": [],
   "source": [
    "import requests\n",
    "import pandas as pd\n",
    "from dotenv import load_dotenv\n",
    "import os"
   ]
  },
  {
   "cell_type": "code",
   "execution_count": 3,
   "id": "f9da2f59",
   "metadata": {},
   "outputs": [
    {
     "data": {
      "text/plain": [
       "True"
      ]
     },
     "execution_count": 3,
     "metadata": {},
     "output_type": "execute_result"
    }
   ],
   "source": [
    "load_dotenv()"
   ]
  },
  {
   "cell_type": "code",
   "execution_count": 4,
   "id": "c49efeba",
   "metadata": {},
   "outputs": [],
   "source": [
    "api_key = os.getenv('EPA_API_KEY')"
   ]
  },
  {
   "cell_type": "code",
   "execution_count": 20,
   "id": "e48e1768",
   "metadata": {
    "lines_to_next_cell": 1
   },
   "outputs": [],
   "source": [
    "def fetch_aqi_data(year, api_key):\n",
    "    url = 'https://aqs.epa.gov/data/api/annualData/byCBSA'\n",
    "    params = {\n",
    "        'email': 'massmediafan@gmail.com',\n",
    "        'key': api_key,\n",
    "        'param': '88101',  # Column for PM2.5\n",
    "        'bdate': f'{year}0101',\n",
    "        'edate': f'{year}1231',\n",
    "        'cbsa': cbsa  # CBSA code for Tulsa, LA and NY define later\n",
    "    }\n",
    "    response = requests.get(url, params=params)\n",
    "    data = response.json()\n",
    "    # Debugging: print the response content\n",
    "    print(f\"Year: {year}, CBSA: {cbsa}, Response: {data}\")\n",
    "\n",
    "    if 'Data' in data:\n",
    "        return pd.DataFrame(data['Data'])\n",
    "    else:\n",
    "        return pd.DataFrame()  # Return an empty DataFrame if 'Data' key is missing"
   ]
  },
  {
   "cell_type": "code",
   "execution_count": 19,
   "id": "9f2ef9be-a412-456a-9712-39452dc2ab82",
   "metadata": {},
   "outputs": [
    {
     "ename": "IndentationError",
     "evalue": "unexpected indent (2931428948.py, line 4)",
     "output_type": "error",
     "traceback": [
      "\u001b[1;36m  Cell \u001b[1;32mIn[19], line 4\u001b[1;36m\u001b[0m\n\u001b[1;33m    if 'Data' in data:\u001b[0m\n\u001b[1;37m    ^\u001b[0m\n\u001b[1;31mIndentationError\u001b[0m\u001b[1;31m:\u001b[0m unexpected indent\n"
     ]
    }
   ],
   "source": [
    "     # Debugging: print the response content\n",
    "    print(f\"Year: {year}, CBSA: {cbsa}, Response: {data}\")\n",
    "\n",
    "    if 'Data' in data:\n",
    "        return pd.DataFrame(data['Data'])\n",
    "    else:\n",
    "        return pd.DataFrame()  # Return an empty DataFrame if 'Data' key is missing"
   ]
  },
  {
   "cell_type": "code",
   "execution_count": 7,
   "id": "46ee9ac9-ed9b-4358-97c8-7a2f2524652c",
   "metadata": {},
   "outputs": [],
   "source": [
    "api_key = os.getenv('EPA_API_KEY')"
   ]
  },
  {
   "cell_type": "code",
   "execution_count": 8,
   "id": "ab2d6285",
   "metadata": {},
   "outputs": [],
   "source": [
    "# Range of years\n",
    "years = range(2014, 2024)  # Adjust this range as needed"
   ]
  },
  {
   "cell_type": "code",
   "execution_count": 9,
   "id": "13197db9-0a2c-4a9f-b17d-43b8c8710b98",
   "metadata": {},
   "outputs": [],
   "source": [
    "# CBSA codes\n",
    "cbsa_codes = {\n",
    "    'Tulsa': '35620', \n",
    "    'Los Angeles': '31080',\n",
    "    'New York': '46140'\n",
    "}"
   ]
  },
  {
   "cell_type": "code",
   "execution_count": 10,
   "id": "44e0a45e",
   "metadata": {},
   "outputs": [],
   "source": [
    "def fetch_aqi_data(year, api_key, cbsa_code):\n",
    "    # EmptyDataFrame to avoid NoneType errors\n",
    "    \n",
    "    return pd.DataFrame()  # Temporary placeholder\n",
    "\n",
    "# Concatenate data for the years and CBSA codes\n",
    "all_data = pd.DataFrame()\n",
    "\n",
    "for cbsa_name, cbsa_code in cbsa_codes.items():\n",
    "    for year in years:\n",
    "        yearly_data = fetch_aqi_data(year, api_key, cbsa_code)\n",
    "        if not yearly_data.empty:\n",
    "            yearly_data['CBSA'] = cbsa_name  # Add a column for CBSA name\n",
    "            all_data = pd.concat([all_data, yearly_data])"
   ]
  },
  {
   "cell_type": "code",
   "execution_count": 14,
   "id": "44052ba6",
   "metadata": {},
   "outputs": [],
   "source": [
    "# Reset the index\n",
    "all_data.reset_index(drop=True, inplace=True)"
   ]
  },
  {
   "cell_type": "code",
   "execution_count": 15,
   "id": "62f12cb5-a25f-44f9-a34c-a39e0a6cc65b",
   "metadata": {},
   "outputs": [],
   "source": [
    "# Convert the date column to datetime format if needed\n",
    "if 'second_max_datetime' in all_data.columns:\n",
    "    all_data['second_max_datetime'] = pd.to_datetime(all_data['second_max_datetime'])"
   ]
  },
  {
   "cell_type": "code",
   "execution_count": 17,
   "id": "254b21c3-316f-4f42-b37c-c0b16631f864",
   "metadata": {},
   "outputs": [
    {
     "name": "stdout",
     "output_type": "stream",
     "text": [
      "No valid data to plot.\n"
     ]
    }
   ],
   "source": [
    "# Group the data by year and CBSA code and calculate the average first_max_value for each year\n",
    "if not all_data.empty and 'second_max_datetime' in all_data.columns:\n",
    "    yearly_aqi = all_data.groupby([all_data['second_max_datetime'].dt.year, 'CBSA'])['first_max_value'].mean().unstack()\n",
    "    \n",
    "    # Plot \n",
    "    plt.figure(figsize=(10, 6))\n",
    "    for cbsa in cbsa_codes.keys():\n",
    "        if cbsa in yearly_aqi.columns:\n",
    "            plt.plot(yearly_aqi.index, yearly_aqi[cbsa], marker='o', linestyle='-', label=cbsa)\n",
    "\n",
    "    plt.title('Average AQI (First Max Value) Over the Last Decade')\n",
    "    plt.xlabel('Year')\n",
    "    plt.ylabel('Average AQI (First Max Value)')\n",
    "    plt.legend(title='CBSA')\n",
    "    plt.grid(True)\n",
    "    plt.show()\n",
    "else:\n",
    "    print(\"No valid data to plot.\")"
   ]
  },
  {
   "cell_type": "code",
   "execution_count": 12,
   "id": "baae6d8b",
   "metadata": {},
   "outputs": [
    {
     "ename": "KeyError",
     "evalue": "'first_max_datetime'",
     "output_type": "error",
     "traceback": [
      "\u001b[1;31m---------------------------------------------------------------------------\u001b[0m",
      "\u001b[1;31mKeyError\u001b[0m                                  Traceback (most recent call last)",
      "Cell \u001b[1;32mIn[12], line 2\u001b[0m\n\u001b[0;32m      1\u001b[0m \u001b[38;5;66;03m# Convert first max datetime for dates\u001b[39;00m\n\u001b[1;32m----> 2\u001b[0m all_data[\u001b[38;5;124m'\u001b[39m\u001b[38;5;124mfirst_max_datetime\u001b[39m\u001b[38;5;124m'\u001b[39m] \u001b[38;5;241m=\u001b[39m pd\u001b[38;5;241m.\u001b[39mto_datetime(all_data[\u001b[38;5;124m'\u001b[39m\u001b[38;5;124mfirst_max_datetime\u001b[39m\u001b[38;5;124m'\u001b[39m])\n",
      "File \u001b[1;32mC:\\ProgramData\\anaconda3\\Lib\\site-packages\\pandas\\core\\frame.py:4090\u001b[0m, in \u001b[0;36mDataFrame.__getitem__\u001b[1;34m(self, key)\u001b[0m\n\u001b[0;32m   4088\u001b[0m \u001b[38;5;28;01mif\u001b[39;00m \u001b[38;5;28mself\u001b[39m\u001b[38;5;241m.\u001b[39mcolumns\u001b[38;5;241m.\u001b[39mnlevels \u001b[38;5;241m>\u001b[39m \u001b[38;5;241m1\u001b[39m:\n\u001b[0;32m   4089\u001b[0m     \u001b[38;5;28;01mreturn\u001b[39;00m \u001b[38;5;28mself\u001b[39m\u001b[38;5;241m.\u001b[39m_getitem_multilevel(key)\n\u001b[1;32m-> 4090\u001b[0m indexer \u001b[38;5;241m=\u001b[39m \u001b[38;5;28mself\u001b[39m\u001b[38;5;241m.\u001b[39mcolumns\u001b[38;5;241m.\u001b[39mget_loc(key)\n\u001b[0;32m   4091\u001b[0m \u001b[38;5;28;01mif\u001b[39;00m is_integer(indexer):\n\u001b[0;32m   4092\u001b[0m     indexer \u001b[38;5;241m=\u001b[39m [indexer]\n",
      "File \u001b[1;32mC:\\ProgramData\\anaconda3\\Lib\\site-packages\\pandas\\core\\indexes\\range.py:417\u001b[0m, in \u001b[0;36mRangeIndex.get_loc\u001b[1;34m(self, key)\u001b[0m\n\u001b[0;32m    415\u001b[0m         \u001b[38;5;28;01mraise\u001b[39;00m \u001b[38;5;167;01mKeyError\u001b[39;00m(key) \u001b[38;5;28;01mfrom\u001b[39;00m \u001b[38;5;21;01merr\u001b[39;00m\n\u001b[0;32m    416\u001b[0m \u001b[38;5;28;01mif\u001b[39;00m \u001b[38;5;28misinstance\u001b[39m(key, Hashable):\n\u001b[1;32m--> 417\u001b[0m     \u001b[38;5;28;01mraise\u001b[39;00m \u001b[38;5;167;01mKeyError\u001b[39;00m(key)\n\u001b[0;32m    418\u001b[0m \u001b[38;5;28mself\u001b[39m\u001b[38;5;241m.\u001b[39m_check_indexing_error(key)\n\u001b[0;32m    419\u001b[0m \u001b[38;5;28;01mraise\u001b[39;00m \u001b[38;5;167;01mKeyError\u001b[39;00m(key)\n",
      "\u001b[1;31mKeyError\u001b[0m: 'first_max_datetime'"
     ]
    }
   ],
   "source": [
    "# Convert first max datetime for dates\n",
    "all_data['first_max_datetime'] = pd.to_datetime(all_data['first_max_datetime'])"
   ]
  },
  {
   "cell_type": "code",
   "execution_count": 20,
   "id": "7e326d25",
   "metadata": {},
   "outputs": [],
   "source": [
    "# Set date column as the index\n",
    "all_data.set_index('first_max_datetime', inplace=True)"
   ]
  },
  {
   "cell_type": "code",
   "execution_count": 10,
   "id": "3846a450",
   "metadata": {},
   "outputs": [
    {
     "name": "stdout",
     "output_type": "stream",
     "text": [
      "                   state_code county_code site_number parameter_code  poc  \\\n",
      "first_max_datetime                                                          \n",
      "2014-02-01                 36         103        0002          88101    1   \n",
      "2014-02-01                 36         103        0002          88101    1   \n",
      "2014-02-01                 36         103        0002          88101    1   \n",
      "2014-02-01                 36         103        0002          88101    1   \n",
      "2014-02-01                 36         103        0002          88101    1   \n",
      "\n",
      "                    latitude  longitude  datum                 parameter  \\\n",
      "first_max_datetime                                                         \n",
      "2014-02-01          40.74529  -73.41919  WGS84  PM2.5 - Local Conditions   \n",
      "2014-02-01          40.74529  -73.41919  WGS84  PM2.5 - Local Conditions   \n",
      "2014-02-01          40.74529  -73.41919  WGS84  PM2.5 - Local Conditions   \n",
      "2014-02-01          40.74529  -73.41919  WGS84  PM2.5 - Local Conditions   \n",
      "2014-02-01          40.74529  -73.41919  WGS84  PM2.5 - Local Conditions   \n",
      "\n",
      "                   sample_duration_code  ... fiftieth_percentile  \\\n",
      "first_max_datetime                       ...                       \n",
      "2014-02-01                            7  ...                 6.8   \n",
      "2014-02-01                            7  ...                 6.8   \n",
      "2014-02-01                            7  ...                 6.8   \n",
      "2014-02-01                            7  ...                 6.8   \n",
      "2014-02-01                            7  ...                 6.8   \n",
      "\n",
      "                   tenth_percentile local_site_name  \\\n",
      "first_max_datetime                                    \n",
      "2014-02-01                      3.2         BABYLON   \n",
      "2014-02-01                      3.2         BABYLON   \n",
      "2014-02-01                      3.2         BABYLON   \n",
      "2014-02-01                      3.2         BABYLON   \n",
      "2014-02-01                      3.2         BABYLON   \n",
      "\n",
      "                                                    site_address     state  \\\n",
      "first_max_datetime                                                           \n",
      "2014-02-01          EAST FARMINGDALE WATER DIST., 72 GAZZA BLVD.  New York   \n",
      "2014-02-01          EAST FARMINGDALE WATER DIST., 72 GAZZA BLVD.  New York   \n",
      "2014-02-01          EAST FARMINGDALE WATER DIST., 72 GAZZA BLVD.  New York   \n",
      "2014-02-01          EAST FARMINGDALE WATER DIST., 72 GAZZA BLVD.  New York   \n",
      "2014-02-01          EAST FARMINGDALE WATER DIST., 72 GAZZA BLVD.  New York   \n",
      "\n",
      "                     county              city  cbsa_code  \\\n",
      "first_max_datetime                                         \n",
      "2014-02-01          Suffolk  East Farmingdale      35620   \n",
      "2014-02-01          Suffolk  East Farmingdale      35620   \n",
      "2014-02-01          Suffolk  East Farmingdale      35620   \n",
      "2014-02-01          Suffolk  East Farmingdale      35620   \n",
      "2014-02-01          Suffolk  East Farmingdale      35620   \n",
      "\n",
      "                                                     cbsa date_of_last_change  \n",
      "first_max_datetime                                                             \n",
      "2014-02-01          New York-Newark-Jersey City, NY-NJ-PA          2024-05-18  \n",
      "2014-02-01          New York-Newark-Jersey City, NY-NJ-PA          2024-05-18  \n",
      "2014-02-01          New York-Newark-Jersey City, NY-NJ-PA          2024-05-18  \n",
      "2014-02-01          New York-Newark-Jersey City, NY-NJ-PA          2024-05-18  \n",
      "2014-02-01          New York-Newark-Jersey City, NY-NJ-PA          2024-05-18  \n",
      "\n",
      "[5 rows x 55 columns]\n",
      "                   state_code county_code site_number parameter_code  poc  \\\n",
      "first_max_datetime                                                          \n",
      "2022-12-30                 34         039        2003          88101    3   \n",
      "2022-12-30                 34         039        2003          88101    3   \n",
      "2022-12-30                 34         039        2003          88101    3   \n",
      "2022-12-30                 34         039        2003          88101    3   \n",
      "2022-12-30                 34         039        2003          88101    3   \n",
      "\n",
      "                     latitude  longitude  datum                 parameter  \\\n",
      "first_max_datetime                                                          \n",
      "2022-12-30          40.603943 -74.276174  WGS84  PM2.5 - Local Conditions   \n",
      "2022-12-30          40.603943 -74.276174  WGS84  PM2.5 - Local Conditions   \n",
      "2022-12-30          40.603943 -74.276174  WGS84  PM2.5 - Local Conditions   \n",
      "2022-12-30          40.603943 -74.276174  WGS84  PM2.5 - Local Conditions   \n",
      "2022-12-30          40.603943 -74.276174  WGS84  PM2.5 - Local Conditions   \n",
      "\n",
      "                   sample_duration_code  ... fiftieth_percentile  \\\n",
      "first_max_datetime                       ...                       \n",
      "2022-12-30                            X  ...                 6.1   \n",
      "2022-12-30                            X  ...                 6.1   \n",
      "2022-12-30                            X  ...                 6.1   \n",
      "2022-12-30                            X  ...                 6.1   \n",
      "2022-12-30                            X  ...                 6.1   \n",
      "\n",
      "                   tenth_percentile local_site_name  \\\n",
      "first_max_datetime                                    \n",
      "2022-12-30                      2.9          Rahway   \n",
      "2022-12-30                      2.9          Rahway   \n",
      "2022-12-30                      2.9          Rahway   \n",
      "2022-12-30                      2.9          Rahway   \n",
      "2022-12-30                      2.9          Rahway   \n",
      "\n",
      "                                                site_address       state  \\\n",
      "first_max_datetime                                                         \n",
      "2022-12-30          Rahway Fire Department, 1300 Main Street  New Jersey   \n",
      "2022-12-30          Rahway Fire Department, 1300 Main Street  New Jersey   \n",
      "2022-12-30          Rahway Fire Department, 1300 Main Street  New Jersey   \n",
      "2022-12-30          Rahway Fire Department, 1300 Main Street  New Jersey   \n",
      "2022-12-30          Rahway Fire Department, 1300 Main Street  New Jersey   \n",
      "\n",
      "                   county    city  cbsa_code  \\\n",
      "first_max_datetime                             \n",
      "2022-12-30          Union  Rahway      35620   \n",
      "2022-12-30          Union  Rahway      35620   \n",
      "2022-12-30          Union  Rahway      35620   \n",
      "2022-12-30          Union  Rahway      35620   \n",
      "2022-12-30          Union  Rahway      35620   \n",
      "\n",
      "                                                     cbsa date_of_last_change  \n",
      "first_max_datetime                                                             \n",
      "2022-12-30          New York-Newark-Jersey City, NY-NJ-PA          2024-05-17  \n",
      "2022-12-30          New York-Newark-Jersey City, NY-NJ-PA          2024-05-17  \n",
      "2022-12-30          New York-Newark-Jersey City, NY-NJ-PA          2024-05-17  \n",
      "2022-12-30          New York-Newark-Jersey City, NY-NJ-PA          2024-05-17  \n",
      "2022-12-30          New York-Newark-Jersey City, NY-NJ-PA          2024-05-17  \n",
      "\n",
      "[5 rows x 55 columns]\n"
     ]
    }
   ],
   "source": [
    "# View DataFrame\n",
    "print(all_data.head())\n",
    "print(all_data.tail())"
   ]
  },
  {
   "cell_type": "code",
   "execution_count": null,
   "id": "b98315ba-065a-46d2-a246-c0bffacce8a5",
   "metadata": {},
   "outputs": [],
   "source": []
  }
 ],
 "metadata": {
  "jupytext": {
   "cell_metadata_filter": "-all",
   "main_language": "python",
   "notebook_metadata_filter": "-all"
  },
  "kernelspec": {
   "display_name": "Python 3 (ipykernel)",
   "language": "python",
   "name": "python3"
  },
  "language_info": {
   "codemirror_mode": {
    "name": "ipython",
    "version": 3
   },
   "file_extension": ".py",
   "mimetype": "text/x-python",
   "name": "python",
   "nbconvert_exporter": "python",
   "pygments_lexer": "ipython3",
   "version": "3.11.7"
  }
 },
 "nbformat": 4,
 "nbformat_minor": 5
}
