{
  "cells": [
    {
      "cell_type": "code",
      "execution_count": null,
      "metadata": {
        "id": "91ogU6zqb7TZ"
      },
      "outputs": [],
      "source": [
        "#Install\n",
        "pip install openmeteo-requests\n",
        "pip install requests-cache retry-requests numpy pandas"
      ]
    },
    {
      "cell_type": "code",
      "execution_count": null,
      "metadata": {
        "id": "q5c9ljwScGVH"
      },
      "outputs": [],
      "source": [
        "#Import Dependencies\n",
        "import openmeteo_requests\n",
        "\n",
        "import requests_cache\n",
        "import pandas as pd\n",
        "from retry_requests import retry"
      ]
    },
    {
      "cell_type": "code",
      "execution_count": null,
      "metadata": {
        "id": "rA9t61d5cPKr"
      },
      "outputs": [],
      "source": [
        "#Setup the Open-Meteo API Client with cache and retry on error\n",
        "cache_session = requests_cache.CachedSession('.cache', expire_after = -1)\n",
        "retry_session = retry(cache_session, retries = 5, backoff_factor = 0.2)\n",
        "openmeteo = openmeteo_requests.Client(session = retry_session)"
      ]
    },
    {
      "cell_type": "code",
      "execution_count": null,
      "metadata": {
        "id": "NV-FWg8jciq9"
      },
      "outputs": [],
      "source": [
        "#Make sure all required weather variables are listed here\n",
        "# The order of variables in hourly or daily is important to assign them correctly below\n",
        "url = \"https://archive-api.open-meteo.com/v1/archive\"\n",
        "params = {\n",
        "    \"latitude\": (lat variable here),\n",
        "    \"longitude\": (long variable here),\n",
        "    \"start_date\": \"2014-07-1\",\n",
        "    \"end_date\": \"2024-07-1\",\n",
        "    \"daily\": [\"temperature_2m_max\", \"temperature_2m_min\", \"precipitation_sum\"],\n",
        "\t\"timezone\": \"auto\"\n",
        "}\n",
        "responses = openmeteo.weather_api(url, params=params)"
      ]
    },
    {
      "cell_type": "code",
      "execution_count": null,
      "metadata": {
        "id": "x-nSMnVmdNzD"
      },
      "outputs": [],
      "source": [
        "# Process first location. Add a for-loop for multiple locations or weather models\n",
        "response = responses[0]\n",
        "print(f\"Coordinates {response.Latitude()}°N {response.Longitude()}°E\")\n",
        "print(f\"Elevation {response.Elevation()} m asl\")\n",
        "print(f\"Timezone {response.Timezone()} {response.TimezoneAbbreviation()}\")\n",
        "print(f\"Timezone difference to GMT+0 {response.UtcOffsetSeconds()} s\")"
      ]
    },
    {
      "cell_type": "code",
      "execution_count": null,
      "metadata": {
        "id": "OWTuRmB4bZtx"
      },
      "outputs": [],
      "source": [
        "# Process daily data. The order of variables needs to be the same as requested.\n",
        "daily = response.Daily()\n",
        "daily_temperature_2m_max = daily.Variables(0).ValuesAsNumpy()\n",
        "daily_temperature_2m_min = daily.Variables(1).ValuesAsNumpy()\n",
        "daily_precipitation_sum = daily.Variables(2).ValuesAsNumpy()\n",
        "\n",
        "daily_data = {\"date\": pd.date_range(\n",
        "\tstart = pd.to_datetime(daily.Time(), unit = \"s\", utc = True),\n",
        "\tend = pd.to_datetime(daily.TimeEnd(), unit = \"s\", utc = True),\n",
        "\tfreq = pd.Timedelta(seconds = daily.Interval()),\n",
        "\tinclusive = \"left\"\n",
        ")}\n",
        "daily_data[\"temperature_2m_max\"] = daily_temperature_2m_max\n",
        "daily_data[\"temperature_2m_min\"] = daily_temperature_2m_min\n",
        "daily_data[\"precipitation_sum\"] = daily_precipitation_sum\n",
        "\n",
        "daily_dataframe = pd.DataFrame(data = daily_data)\n",
        "print(daily_dataframe)"
      ]
    }
  ],
  "metadata": {
    "colab": {
      "provenance": []
    },
    "kernelspec": {
      "display_name": "Python 3",
      "name": "python3"
    },
    "language_info": {
      "name": "python"
    }
  },
  "nbformat": 4,
  "nbformat_minor": 0
}
