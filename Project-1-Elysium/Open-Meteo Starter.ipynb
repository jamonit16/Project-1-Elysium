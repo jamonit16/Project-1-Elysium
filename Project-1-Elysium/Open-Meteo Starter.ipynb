{
  "cells": [
    {
      "cell_type": "code",
      "execution_count": 1,
      "metadata": {
        "id": "91ogU6zqb7TZ"
      },
      "outputs": [
        {
          "name": "stdout",
          "output_type": "stream",
          "text": [
            "Collecting openmeteo-requests\n",
            "  Downloading openmeteo_requests-1.2.1-py3-none-any.whl.metadata (9.7 kB)\n",
            "Collecting openmeteo-sdk>=1.4.0 (from openmeteo-requests)\n",
            "  Downloading openmeteo_sdk-1.12.0-py3-none-any.whl.metadata (13 kB)\n",
            "Requirement already satisfied: requests in c:\\users\\lmisa\\anaconda3\\envs\\dev\\lib\\site-packages (from openmeteo-requests) (2.31.0)\n",
            "Collecting flatbuffers>=24.0.0 (from openmeteo-sdk>=1.4.0->openmeteo-requests)\n",
            "  Using cached flatbuffers-24.3.25-py2.py3-none-any.whl.metadata (850 bytes)\n",
            "Requirement already satisfied: charset-normalizer<4,>=2 in c:\\users\\lmisa\\anaconda3\\envs\\dev\\lib\\site-packages (from requests->openmeteo-requests) (2.0.4)\n",
            "Requirement already satisfied: idna<4,>=2.5 in c:\\users\\lmisa\\anaconda3\\envs\\dev\\lib\\site-packages (from requests->openmeteo-requests) (3.4)\n",
            "Requirement already satisfied: urllib3<3,>=1.21.1 in c:\\users\\lmisa\\anaconda3\\envs\\dev\\lib\\site-packages (from requests->openmeteo-requests) (1.26.18)\n",
            "Requirement already satisfied: certifi>=2017.4.17 in c:\\users\\lmisa\\anaconda3\\envs\\dev\\lib\\site-packages (from requests->openmeteo-requests) (2024.7.4)\n",
            "Downloading openmeteo_requests-1.2.1-py3-none-any.whl (6.0 kB)\n",
            "Downloading openmeteo_sdk-1.12.0-py3-none-any.whl (12 kB)\n",
            "Using cached flatbuffers-24.3.25-py2.py3-none-any.whl (26 kB)\n",
            "Installing collected packages: flatbuffers, openmeteo-sdk, openmeteo-requests\n",
            "Successfully installed flatbuffers-24.3.25 openmeteo-requests-1.2.1 openmeteo-sdk-1.12.0\n",
            "Collecting requests-cache\n",
            "  Downloading requests_cache-1.2.1-py3-none-any.whl.metadata (9.9 kB)\n",
            "Collecting retry-requests\n",
            "  Downloading retry_requests-2.0.0-py3-none-any.whl.metadata (2.6 kB)\n",
            "Requirement already satisfied: numpy in c:\\users\\lmisa\\anaconda3\\envs\\dev\\lib\\site-packages (1.26.4)\n",
            "Collecting pandas\n",
            "  Using cached pandas-2.2.2-cp310-cp310-win_amd64.whl.metadata (19 kB)\n",
            "Collecting attrs>=21.2 (from requests-cache)\n",
            "  Using cached attrs-23.2.0-py3-none-any.whl.metadata (9.5 kB)\n",
            "Collecting cattrs>=22.2 (from requests-cache)\n",
            "  Downloading cattrs-23.2.3-py3-none-any.whl.metadata (10 kB)\n",
            "Requirement already satisfied: platformdirs>=2.5 in c:\\users\\lmisa\\anaconda3\\envs\\dev\\lib\\site-packages (from requests-cache) (4.2.2)\n",
            "Requirement already satisfied: requests>=2.22 in c:\\users\\lmisa\\anaconda3\\envs\\dev\\lib\\site-packages (from requests-cache) (2.31.0)\n",
            "Collecting url-normalize>=1.4 (from requests-cache)\n",
            "  Downloading url_normalize-1.4.3-py2.py3-none-any.whl.metadata (3.1 kB)\n",
            "Requirement already satisfied: urllib3>=1.25.5 in c:\\users\\lmisa\\anaconda3\\envs\\dev\\lib\\site-packages (from requests-cache) (1.26.18)\n",
            "Requirement already satisfied: python-dateutil>=2.8.2 in c:\\users\\lmisa\\anaconda3\\envs\\dev\\lib\\site-packages (from pandas) (2.9.0.post0)\n",
            "Collecting pytz>=2020.1 (from pandas)\n",
            "  Using cached pytz-2024.1-py2.py3-none-any.whl.metadata (22 kB)\n",
            "Collecting tzdata>=2022.7 (from pandas)\n",
            "  Using cached tzdata-2024.1-py2.py3-none-any.whl.metadata (1.4 kB)\n",
            "Requirement already satisfied: exceptiongroup>=1.1.1 in c:\\users\\lmisa\\anaconda3\\envs\\dev\\lib\\site-packages (from cattrs>=22.2->requests-cache) (1.2.2)\n",
            "Requirement already satisfied: typing-extensions!=4.6.3,>=4.1.0 in c:\\users\\lmisa\\anaconda3\\envs\\dev\\lib\\site-packages (from cattrs>=22.2->requests-cache) (4.12.2)\n",
            "Requirement already satisfied: six>=1.5 in c:\\users\\lmisa\\anaconda3\\envs\\dev\\lib\\site-packages (from python-dateutil>=2.8.2->pandas) (1.16.0)\n",
            "Requirement already satisfied: charset-normalizer<4,>=2 in c:\\users\\lmisa\\anaconda3\\envs\\dev\\lib\\site-packages (from requests>=2.22->requests-cache) (2.0.4)\n",
            "Requirement already satisfied: idna<4,>=2.5 in c:\\users\\lmisa\\anaconda3\\envs\\dev\\lib\\site-packages (from requests>=2.22->requests-cache) (3.4)\n",
            "Requirement already satisfied: certifi>=2017.4.17 in c:\\users\\lmisa\\anaconda3\\envs\\dev\\lib\\site-packages (from requests>=2.22->requests-cache) (2024.7.4)\n",
            "Downloading requests_cache-1.2.1-py3-none-any.whl (61 kB)\n",
            "   ---------------------------------------- 0.0/61.4 kB ? eta -:--:--\n",
            "   ---------------------------------------- 0.0/61.4 kB ? eta -:--:--\n",
            "   ------ --------------------------------- 10.2/61.4 kB ? eta -:--:--\n",
            "   -------------------- ------------------- 30.7/61.4 kB 325.1 kB/s eta 0:00:01\n",
            "   -------------------- ------------------- 30.7/61.4 kB 325.1 kB/s eta 0:00:01\n",
            "   -------------------- ------------------- 30.7/61.4 kB 325.1 kB/s eta 0:00:01\n",
            "   -------------------- ------------------- 30.7/61.4 kB 325.1 kB/s eta 0:00:01\n",
            "   -------------------------- ------------- 41.0/61.4 kB 131.3 kB/s eta 0:00:01\n",
            "   ---------------------------------------- 61.4/61.4 kB 182.2 kB/s eta 0:00:00\n",
            "Downloading retry_requests-2.0.0-py3-none-any.whl (15 kB)\n",
            "Using cached pandas-2.2.2-cp310-cp310-win_amd64.whl (11.6 MB)\n",
            "Using cached attrs-23.2.0-py3-none-any.whl (60 kB)\n",
            "Downloading cattrs-23.2.3-py3-none-any.whl (57 kB)\n",
            "   ---------------------------------------- 0.0/57.5 kB ? eta -:--:--\n",
            "   ------- -------------------------------- 10.2/57.5 kB ? eta -:--:--\n",
            "   ---------------------------------------- 57.5/57.5 kB 1.0 MB/s eta 0:00:00\n",
            "Using cached pytz-2024.1-py2.py3-none-any.whl (505 kB)\n",
            "Using cached tzdata-2024.1-py2.py3-none-any.whl (345 kB)\n",
            "Downloading url_normalize-1.4.3-py2.py3-none-any.whl (6.8 kB)\n",
            "Installing collected packages: pytz, url-normalize, tzdata, attrs, retry-requests, pandas, cattrs, requests-cache\n",
            "Successfully installed attrs-23.2.0 cattrs-23.2.3 pandas-2.2.2 pytz-2024.1 requests-cache-1.2.1 retry-requests-2.0.0 tzdata-2024.1 url-normalize-1.4.3\n"
          ]
        }
      ],
      "source": [
        "#Install\n",
        "!pip install openmeteo-requests\n",
        "!pip install requests-cache retry-requests numpy pandas"
      ]
    },
    {
      "cell_type": "code",
      "execution_count": 2,
      "metadata": {
        "id": "q5c9ljwScGVH"
      },
      "outputs": [],
      "source": [
        "#Import Dependencies\n",
        "import openmeteo_requests\n",
        "\n",
        "import requests_cache\n",
        "import pandas as pd\n",
        "from retry_requests import retry"
      ]
    },
    {
      "cell_type": "code",
      "execution_count": 3,
      "metadata": {
        "id": "rA9t61d5cPKr"
      },
      "outputs": [],
      "source": [
        "#Setup the Open-Meteo API Client with cache and retry on error\n",
        "cache_session = requests_cache.CachedSession('.cache', expire_after = -1)\n",
        "retry_session = retry(cache_session, retries = 5, backoff_factor = 0.2)\n",
        "openmeteo = openmeteo_requests.Client(session = retry_session)"
      ]
    },
    {
      "cell_type": "code",
      "execution_count": 4,
      "metadata": {
        "id": "NV-FWg8jciq9"
      },
      "outputs": [],
      "source": [
        "#Make sure all required weather variables are listed here\n",
        "# The order of variables in hourly or daily is important to assign them correctly below\n",
        "url = \"https://archive-api.open-meteo.com/v1/archive\"\n",
        "params = {\n",
        "\t\"latitude\": [36.154, 40.7128, 34.0549],\n",
        "\t\"longitude\": [95.9928, 74.006, 118.2426],\n",
        "\t\"start_date\": \"2014-01-01\",\n",
        "\t\"end_date\": \"2023-12-31\",\n",
        "\t\"hourly\": \"relative_humidity_2m\",\n",
        "\t\"daily\": [\"temperature_2m_max\", \"temperature_2m_min\", \"precipitation_sum\"],\n",
        "\t\"temperature_unit\": \"fahrenheit\",\n",
        "\t\"precipitation_unit\": \"inch\",\n",
        "\t\"timezone\": \"America/Chicago\"\n",
        "}\n",
        "responses = openmeteo.weather_api(url, params=params)"
      ]
    },
    {
      "cell_type": "code",
      "execution_count": 5,
      "metadata": {
        "id": "x-nSMnVmdNzD"
      },
      "outputs": [
        {
          "name": "stdout",
          "output_type": "stream",
          "text": [
            "Coordinates 36.16871643066406°N 96.07791900634766°E\n",
            "Elevation 4246.0 m asl\n",
            "Timezone b'America/Chicago' b'CDT'\n",
            "Timezone difference to GMT+0 -18000 s\n"
          ]
        }
      ],
      "source": [
        "# Process first location. Add a for-loop for multiple locations or weather models\n",
        "response = responses[0]\n",
        "print(f\"Coordinates {response.Latitude()}°N {response.Longitude()}°E\")\n",
        "print(f\"Elevation {response.Elevation()} m asl\")\n",
        "print(f\"Timezone {response.Timezone()} {response.TimezoneAbbreviation()}\")\n",
        "print(f\"Timezone difference to GMT+0 {response.UtcOffsetSeconds()} s\")"
      ]
    },
    {
      "cell_type": "code",
      "execution_count": 6,
      "metadata": {},
      "outputs": [
        {
          "name": "stdout",
          "output_type": "stream",
          "text": [
            "Coordinates 36.16871643066406°N 96.07791900634766°E\n",
            "Elevation 4246.0 m asl\n",
            "Timezone b'America/Chicago' b'CDT'\n",
            "Timezone difference to GMT+0 -18000 s\n",
            "                           date  relative_humidity_2m\n",
            "0     2014-01-01 05:00:00+00:00             59.558182\n",
            "1     2014-01-01 06:00:00+00:00             55.147812\n",
            "2     2014-01-01 07:00:00+00:00             56.722488\n",
            "3     2014-01-01 08:00:00+00:00             61.792240\n",
            "4     2014-01-01 09:00:00+00:00             64.751877\n",
            "...                         ...                   ...\n",
            "87643 2024-01-01 00:00:00+00:00             41.523659\n",
            "87644 2024-01-01 01:00:00+00:00             44.350803\n",
            "87645 2024-01-01 02:00:00+00:00             39.358746\n",
            "87646 2024-01-01 03:00:00+00:00             35.514065\n",
            "87647 2024-01-01 04:00:00+00:00             37.143208\n",
            "\n",
            "[87648 rows x 2 columns]\n"
          ]
        }
      ],
      "source": [
        "# Process first location. Add a for-loop for multiple locations or weather models\n",
        "response = responses[0]\n",
        "print(f\"Coordinates {response.Latitude()}°N {response.Longitude()}°E\")\n",
        "print(f\"Elevation {response.Elevation()} m asl\")\n",
        "print(f\"Timezone {response.Timezone()} {response.TimezoneAbbreviation()}\")\n",
        "print(f\"Timezone difference to GMT+0 {response.UtcOffsetSeconds()} s\")\n",
        "\n",
        "# Process hourly data. The order of variables needs to be the same as requested.\n",
        "hourly = response.Hourly()\n",
        "hourly_relative_humidity_2m = hourly.Variables(0).ValuesAsNumpy()\n",
        "\n",
        "hourly_data = {\"date\": pd.date_range(\n",
        "\tstart = pd.to_datetime(hourly.Time(), unit = \"s\", utc = True),\n",
        "\tend = pd.to_datetime(hourly.TimeEnd(), unit = \"s\", utc = True),\n",
        "\tfreq = pd.Timedelta(seconds = hourly.Interval()),\n",
        "\tinclusive = \"left\"\n",
        ")}\n",
        "hourly_data[\"relative_humidity_2m\"] = hourly_relative_humidity_2m\n",
        "\n",
        "hourly_dataframe = pd.DataFrame(data = hourly_data)\n",
        "print(hourly_dataframe)"
      ]
    },
    {
      "cell_type": "code",
      "execution_count": 7,
      "metadata": {
        "id": "OWTuRmB4bZtx"
      },
      "outputs": [
        {
          "name": "stdout",
          "output_type": "stream",
          "text": [
            "                          date  temperature_2m_max  temperature_2m_min  \\\n",
            "0    2014-01-01 05:00:00+00:00           19.540400           -6.199600   \n",
            "1    2014-01-02 05:00:00+00:00            9.550400          -24.199596   \n",
            "2    2014-01-03 05:00:00+00:00            6.940401          -24.559601   \n",
            "3    2014-01-04 05:00:00+00:00           18.820400          -14.029602   \n",
            "4    2014-01-05 05:00:00+00:00           14.050400          -12.409599   \n",
            "...                        ...                 ...                 ...   \n",
            "3647 2023-12-27 05:00:00+00:00           24.994400           17.704399   \n",
            "3648 2023-12-28 05:00:00+00:00           19.594400            4.834400   \n",
            "3649 2023-12-29 05:00:00+00:00           21.214401            9.064398   \n",
            "3650 2023-12-30 05:00:00+00:00           23.554399           17.434399   \n",
            "3651 2023-12-31 05:00:00+00:00           23.914400            1.774403   \n",
            "\n",
            "      precipitation_sum  \n",
            "0                   0.0  \n",
            "1                   0.0  \n",
            "2                   0.0  \n",
            "3                   0.0  \n",
            "4                   0.0  \n",
            "...                 ...  \n",
            "3647                0.0  \n",
            "3648                0.0  \n",
            "3649                0.0  \n",
            "3650                0.0  \n",
            "3651                0.0  \n",
            "\n",
            "[3652 rows x 4 columns]\n"
          ]
        }
      ],
      "source": [
        "# Process daily data. The order of variables needs to be the same as requested.\n",
        "daily = response.Daily()\n",
        "daily_temperature_2m_max = daily.Variables(0).ValuesAsNumpy()\n",
        "daily_temperature_2m_min = daily.Variables(1).ValuesAsNumpy()\n",
        "daily_precipitation_sum = daily.Variables(2).ValuesAsNumpy()\n",
        "\n",
        "daily_data = {\"date\": pd.date_range(\n",
        "\tstart = pd.to_datetime(daily.Time(), unit = \"s\", utc = True),\n",
        "\tend = pd.to_datetime(daily.TimeEnd(), unit = \"s\", utc = True),\n",
        "\tfreq = pd.Timedelta(seconds = daily.Interval()),\n",
        "\tinclusive = \"left\"\n",
        ")}\n",
        "daily_data[\"temperature_2m_max\"] = daily_temperature_2m_max\n",
        "daily_data[\"temperature_2m_min\"] = daily_temperature_2m_min\n",
        "daily_data[\"precipitation_sum\"] = daily_precipitation_sum\n",
        "\n",
        "daily_dataframe = pd.DataFrame(data = daily_data)\n",
        "print(daily_dataframe)"
      ]
    }
  ],
  "metadata": {
    "colab": {
      "provenance": []
    },
    "kernelspec": {
      "display_name": "Python 3",
      "name": "python3"
    },
    "language_info": {
      "codemirror_mode": {
        "name": "ipython",
        "version": 3
      },
      "file_extension": ".py",
      "mimetype": "text/x-python",
      "name": "python",
      "nbconvert_exporter": "python",
      "pygments_lexer": "ipython3",
      "version": "3.10.14"
    }
  },
  "nbformat": 4,
  "nbformat_minor": 0
}
