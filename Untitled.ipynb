{
 "cells": [
  {
   "cell_type": "code",
   "execution_count": 2,
   "id": "d435d5c2-7d80-4d56-bbdc-5c30fc1fb56f",
   "metadata": {},
   "outputs": [
    {
     "name": "stdout",
     "output_type": "stream",
     "text": [
      "Defaulting to user installation because normal site-packages is not writeable\n",
      "Requirement already satisfied: jupytext in c:\\users\\jasmi\\appdata\\roaming\\python\\python311\\site-packages (1.16.4)\n",
      "Requirement already satisfied: markdown-it-py>=1.0 in c:\\programdata\\anaconda3\\lib\\site-packages (from jupytext) (2.2.0)\n",
      "Requirement already satisfied: mdit-py-plugins in c:\\programdata\\anaconda3\\lib\\site-packages (from jupytext) (0.3.0)\n",
      "Requirement already satisfied: nbformat in c:\\programdata\\anaconda3\\lib\\site-packages (from jupytext) (5.9.2)\n",
      "Requirement already satisfied: packaging in c:\\programdata\\anaconda3\\lib\\site-packages (from jupytext) (23.2)\n",
      "Requirement already satisfied: pyyaml in c:\\programdata\\anaconda3\\lib\\site-packages (from jupytext) (6.0.1)\n",
      "Requirement already satisfied: mdurl~=0.1 in c:\\programdata\\anaconda3\\lib\\site-packages (from markdown-it-py>=1.0->jupytext) (0.1.0)\n",
      "Requirement already satisfied: fastjsonschema in c:\\programdata\\anaconda3\\lib\\site-packages (from nbformat->jupytext) (2.16.2)\n",
      "Requirement already satisfied: jsonschema>=2.6 in c:\\programdata\\anaconda3\\lib\\site-packages (from nbformat->jupytext) (4.19.2)\n",
      "Requirement already satisfied: jupyter-core in c:\\programdata\\anaconda3\\lib\\site-packages (from nbformat->jupytext) (5.5.0)\n",
      "Requirement already satisfied: traitlets>=5.1 in c:\\programdata\\anaconda3\\lib\\site-packages (from nbformat->jupytext) (5.7.1)\n",
      "Requirement already satisfied: attrs>=22.2.0 in c:\\programdata\\anaconda3\\lib\\site-packages (from jsonschema>=2.6->nbformat->jupytext) (23.1.0)\n",
      "Requirement already satisfied: jsonschema-specifications>=2023.03.6 in c:\\programdata\\anaconda3\\lib\\site-packages (from jsonschema>=2.6->nbformat->jupytext) (2023.7.1)\n",
      "Requirement already satisfied: referencing>=0.28.4 in c:\\programdata\\anaconda3\\lib\\site-packages (from jsonschema>=2.6->nbformat->jupytext) (0.30.2)\n",
      "Requirement already satisfied: rpds-py>=0.7.1 in c:\\programdata\\anaconda3\\lib\\site-packages (from jsonschema>=2.6->nbformat->jupytext) (0.10.6)\n",
      "Requirement already satisfied: platformdirs>=2.5 in c:\\programdata\\anaconda3\\lib\\site-packages (from jupyter-core->nbformat->jupytext) (3.10.0)\n",
      "Requirement already satisfied: pywin32>=300 in c:\\programdata\\anaconda3\\lib\\site-packages (from jupyter-core->nbformat->jupytext) (305.1)\n"
     ]
    }
   ],
   "source": [
    "!pip install jupytext"
   ]
  },
  {
   "cell_type": "code",
   "execution_count": 4,
   "id": "77434e38-c264-44bc-9a67-f9effc456ee9",
   "metadata": {},
   "outputs": [
    {
     "name": "stdout",
     "output_type": "stream",
     "text": [
      "C:\\Users\\jasmi\\Projects\\Project_1\\Project-1-Elysium\n"
     ]
    }
   ],
   "source": [
    "import os\n",
    "print(os.getcwd())\n"
   ]
  },
  {
   "cell_type": "code",
   "execution_count": 9,
   "id": "d9f31658-8ea5-42b9-a527-0ba549b97320",
   "metadata": {},
   "outputs": [],
   "source": [
    "import jupytext\n",
    "\n",
    "# Load the Python script from the 'scripts' directory\n",
    "with open('starter code EPA.py') as file:\n",
    "    text = file.read()\n",
    "\n",
    "# Convert the script to a Jupyter notebook\n",
    "notebook = jupytext.reads(text, ext='.py')\n",
    "\n",
    "# Save the notebook\n",
    "jupytext.write(notebook, 'starter code EPA.ipynb')"
   ]
  },
  {
   "cell_type": "code",
   "execution_count": 10,
   "id": "78eb7714-8660-486b-8152-01a5ed0bb385",
   "metadata": {},
   "outputs": [
    {
     "name": "stdout",
     "output_type": "stream",
     "text": [
      " Volume in drive C is Windows\n",
      " Volume Serial Number is EA52-B11C\n",
      "\n",
      " Directory of C:\\Users\\jasmi\\Projects\\Project_1\\Project-1-Elysium\n",
      "\n",
      "08/06/2024  03:00 PM    <DIR>          .\n",
      "08/01/2024  07:41 PM    <DIR>          ..\n",
      "08/06/2024  02:28 PM               121 .env\n",
      "08/01/2024  07:38 PM             3,139 .gitignore\n",
      "08/06/2024  02:55 PM    <DIR>          .ipynb_checkpoints\n",
      "08/05/2024  01:04 PM            97,847 annual_data_Los_Angeles_2014.csv\n",
      "08/05/2024  01:04 PM            97,041 annual_data_Los_Angeles_2015.csv\n",
      "08/05/2024  01:04 PM            67,873 annual_data_Los_Angeles_2016.csv\n",
      "08/05/2024  01:04 PM            87,871 annual_data_Los_Angeles_2017.csv\n",
      "08/05/2024  01:04 PM            99,489 annual_data_Los_Angeles_2018.csv\n",
      "08/05/2024  01:04 PM            96,112 annual_data_Los_Angeles_2019.csv\n",
      "08/05/2024  01:05 PM           128,810 annual_data_Los_Angeles_2020.csv\n",
      "08/05/2024  01:04 PM           106,356 annual_data_Los_Angeles_2021.csv\n",
      "08/05/2024  01:05 PM            96,602 annual_data_Los_Angeles_2022.csv\n",
      "08/05/2024  01:05 PM            62,022 annual_data_Los_Angeles_2023.csv\n",
      "08/05/2024  01:39 PM           115,975 annual_data_New_York_2014.csv\n",
      "08/05/2024  01:39 PM           121,123 annual_data_New_York_2015.csv\n",
      "08/05/2024  01:39 PM           141,408 annual_data_New_York_2016.csv\n",
      "08/05/2024  01:40 PM           142,091 annual_data_New_York_2017.csv\n",
      "08/05/2024  01:40 PM           159,697 annual_data_New_York_2018.csv\n",
      "08/05/2024  01:40 PM           150,254 annual_data_New_York_2019.csv\n",
      "08/05/2024  01:40 PM           143,688 annual_data_New_York_2020.csv\n",
      "08/05/2024  01:40 PM           129,996 annual_data_New_York_2021.csv\n",
      "08/05/2024  01:41 PM           138,850 annual_data_New_York_2022.csv\n",
      "08/05/2024  01:41 PM           295,385 annual_data_New_York_2023.csv\n",
      "08/01/2024  07:38 PM             3,504 AQI_line_chart.ipynb\n",
      "08/05/2024  01:59 PM               228 Los_Angeles_aqi_by_year.csv\n",
      "08/01/2024  07:38 PM               431 main.ipynb\n",
      "08/05/2024  01:48 PM               220 New_York_aqi_by_year.csv\n",
      "08/01/2024  07:38 PM            16,122 Open-Meteo Starter.ipynb\n",
      "08/05/2024  07:43 PM           316,685 open-meteo-weather.csv\n",
      "08/06/2024  02:33 PM             1,316 pip install python-dotenv.py\n",
      "08/05/2024  07:43 PM               757 README.md\n",
      "08/06/2024  03:00 PM             3,535 starter code EPA.ipynb\n",
      "08/06/2024  02:38 PM             1,227 starter code EPA.py\n",
      "08/01/2024  08:39 PM               225 tulsa_aqi_by_year.csv\n",
      "08/05/2024  07:43 PM    <DIR>          Tulsa_Data\n",
      "08/06/2024  02:59 PM             7,154 Untitled.ipynb\n",
      "              34 File(s)      2,833,154 bytes\n",
      "               4 Dir(s)  184,672,407,552 bytes free\n"
     ]
    }
   ],
   "source": [
    "ls"
   ]
  },
  {
   "cell_type": "code",
   "execution_count": 11,
   "id": "fef69d26-c883-40a8-8b33-ffe9908cb776",
   "metadata": {},
   "outputs": [
    {
     "data": {
      "text/plain": [
       "<function dir>"
      ]
     },
     "execution_count": 11,
     "metadata": {},
     "output_type": "execute_result"
    }
   ],
   "source": [
    "dir"
   ]
  },
  {
   "cell_type": "code",
   "execution_count": 12,
   "id": "910abd09-0978-4659-a7e8-585516b3c8f9",
   "metadata": {},
   "outputs": [
    {
     "ename": "SyntaxError",
     "evalue": "invalid syntax (4078676949.py, line 1)",
     "output_type": "error",
     "traceback": [
      "\u001b[1;36m  Cell \u001b[1;32mIn[12], line 1\u001b[1;36m\u001b[0m\n\u001b[1;33m    git clone https://github.com/jamonit16/Project-1-Elysium.git\u001b[0m\n\u001b[1;37m        ^\u001b[0m\n\u001b[1;31mSyntaxError\u001b[0m\u001b[1;31m:\u001b[0m invalid syntax\n"
     ]
    }
   ],
   "source": [
    "git clone https://github.com/jamonit16/Project-1-Elysium.git\n",
    "cd Project-1-Elysium\n"
   ]
  },
  {
   "cell_type": "code",
   "execution_count": 13,
   "id": "dac0d266-3890-4127-97cb-bc34e07fca3a",
   "metadata": {},
   "outputs": [
    {
     "name": "stderr",
     "output_type": "stream",
     "text": [
      "Cloning into 'Project-1-Elysium'...\n"
     ]
    }
   ],
   "source": [
    "!git clone https://github.com/jamonit16/Project-1-Elysium.git\n"
   ]
  },
  {
   "cell_type": "code",
   "execution_count": 14,
   "id": "deb69088-43c1-424c-b963-455a4befdc8d",
   "metadata": {},
   "outputs": [],
   "source": [
    "import os\n",
    "os.chdir('Project-1-Elysium')\n"
   ]
  },
  {
   "cell_type": "code",
   "execution_count": 15,
   "id": "a8df4c48-e84d-428c-be80-f56ff4f3d1ff",
   "metadata": {},
   "outputs": [],
   "source": [
    "!git add .\n"
   ]
  },
  {
   "cell_type": "code",
   "execution_count": 16,
   "id": "c51d749b-54ba-4385-8fbc-44a5ddd634e7",
   "metadata": {},
   "outputs": [
    {
     "name": "stdout",
     "output_type": "stream",
     "text": [
      "On branch main\n",
      "Your branch is up to date with 'origin/main'.\n",
      "\n",
      "nothing to commit, working tree clean\n"
     ]
    }
   ],
   "source": [
    "!git commit -m \"Add Jupyter Notebook files plus others\"\n"
   ]
  },
  {
   "cell_type": "code",
   "execution_count": 17,
   "id": "4a27cdf7-960a-4f30-aafe-16ed8cf98f49",
   "metadata": {},
   "outputs": [
    {
     "name": "stderr",
     "output_type": "stream",
     "text": [
      "Everything up-to-date\n"
     ]
    }
   ],
   "source": [
    "!git push origin main"
   ]
  },
  {
   "cell_type": "code",
   "execution_count": 20,
   "id": "4d772a8a-c2f0-426d-87f0-17a1f7470ae1",
   "metadata": {},
   "outputs": [
    {
     "name": "stdout",
     "output_type": "stream",
     "text": [
      " Volume in drive C is Windows\n",
      " Volume Serial Number is EA52-B11C\n",
      "\n",
      " Directory of C:\\Users\\jasmi\\Projects\\Project_1\\Project-1-Elysium\n",
      "\n",
      "08/06/2024  03:07 PM    <DIR>          .\n",
      "08/01/2024  07:41 PM    <DIR>          ..\n",
      "08/06/2024  02:28 PM               121 .env\n",
      "08/01/2024  07:38 PM             3,139 .gitignore\n",
      "08/06/2024  02:55 PM    <DIR>          .ipynb_checkpoints\n",
      "08/05/2024  01:04 PM            97,847 annual_data_Los_Angeles_2014.csv\n",
      "08/05/2024  01:04 PM            97,041 annual_data_Los_Angeles_2015.csv\n",
      "08/05/2024  01:04 PM            67,873 annual_data_Los_Angeles_2016.csv\n",
      "08/05/2024  01:04 PM            87,871 annual_data_Los_Angeles_2017.csv\n",
      "08/05/2024  01:04 PM            99,489 annual_data_Los_Angeles_2018.csv\n",
      "08/05/2024  01:04 PM            96,112 annual_data_Los_Angeles_2019.csv\n",
      "08/05/2024  01:05 PM           128,810 annual_data_Los_Angeles_2020.csv\n",
      "08/05/2024  01:04 PM           106,356 annual_data_Los_Angeles_2021.csv\n",
      "08/05/2024  01:05 PM            96,602 annual_data_Los_Angeles_2022.csv\n",
      "08/05/2024  01:05 PM            62,022 annual_data_Los_Angeles_2023.csv\n",
      "08/05/2024  01:39 PM           115,975 annual_data_New_York_2014.csv\n",
      "08/05/2024  01:39 PM           121,123 annual_data_New_York_2015.csv\n",
      "08/05/2024  01:39 PM           141,408 annual_data_New_York_2016.csv\n",
      "08/05/2024  01:40 PM           142,091 annual_data_New_York_2017.csv\n",
      "08/05/2024  01:40 PM           159,697 annual_data_New_York_2018.csv\n",
      "08/05/2024  01:40 PM           150,254 annual_data_New_York_2019.csv\n",
      "08/05/2024  01:40 PM           143,688 annual_data_New_York_2020.csv\n",
      "08/05/2024  01:40 PM           129,996 annual_data_New_York_2021.csv\n",
      "08/05/2024  01:41 PM           138,850 annual_data_New_York_2022.csv\n",
      "08/05/2024  01:41 PM           295,385 annual_data_New_York_2023.csv\n",
      "08/01/2024  07:38 PM             3,504 AQI_line_chart.ipynb\n",
      "08/05/2024  01:59 PM               228 Los_Angeles_aqi_by_year.csv\n",
      "08/01/2024  07:38 PM               431 main.ipynb\n",
      "08/05/2024  01:48 PM               220 New_York_aqi_by_year.csv\n",
      "08/01/2024  07:38 PM            16,122 Open-Meteo Starter.ipynb\n",
      "08/05/2024  07:43 PM           316,685 open-meteo-weather.csv\n",
      "08/06/2024  02:33 PM             1,316 pip install python-dotenv.py\n",
      "08/06/2024  03:06 PM    <DIR>          Project-1-Elysium\n",
      "08/05/2024  07:43 PM               757 README.md\n",
      "08/06/2024  03:00 PM             3,535 starter code EPA.ipynb\n",
      "08/06/2024  02:38 PM             1,227 starter code EPA.py\n",
      "08/01/2024  08:39 PM               225 tulsa_aqi_by_year.csv\n",
      "08/05/2024  07:43 PM    <DIR>          Tulsa_Data\n",
      "08/06/2024  03:07 PM            10,101 Untitled.ipynb\n",
      "              34 File(s)      2,836,101 bytes\n",
      "               5 Dir(s)  184,692,486,144 bytes free\n"
     ]
    }
   ],
   "source": [
    "ls"
   ]
  },
  {
   "cell_type": "code",
   "execution_count": 21,
   "id": "4e8e2f4c-f2d1-4f07-a6ab-93128784a05b",
   "metadata": {},
   "outputs": [
    {
     "name": "stderr",
     "output_type": "stream",
     "text": [
      "warning: adding embedded git repository: Project-1-Elysium\n",
      "hint: You've added another git repository inside your current repository.\n",
      "hint: Clones of the outer repository will not contain the contents of\n",
      "hint: the embedded repository and will not know how to obtain it.\n",
      "hint: If you meant to add a submodule, use:\n",
      "hint:\n",
      "hint: \tgit submodule add <url> Project-1-Elysium\n",
      "hint:\n",
      "hint: If you added this path by mistake, you can remove it from the\n",
      "hint: index with:\n",
      "hint:\n",
      "hint: \tgit rm --cached Project-1-Elysium\n",
      "hint:\n",
      "hint: See \"git help submodule\" for more information.\n",
      "hint: Disable this message with \"git config advice.addEmbeddedRepo false\"\n",
      "warning: in the working copy of 'pip install python-dotenv.py', CRLF will be replaced by LF the next time Git touches it\n",
      "warning: in the working copy of 'starter code EPA.ipynb', CRLF will be replaced by LF the next time Git touches it\n",
      "warning: in the working copy of 'starter code EPA.py', CRLF will be replaced by LF the next time Git touches it\n"
     ]
    }
   ],
   "source": [
    "!git add ."
   ]
  },
  {
   "cell_type": "code",
   "execution_count": 22,
   "id": "40b720c5-ddd0-44d0-b71d-281f62f0eafc",
   "metadata": {},
   "outputs": [
    {
     "name": "stderr",
     "output_type": "stream",
     "text": [
      "error: the following file has staged content different from both the\n",
      "file and the HEAD:\n",
      "    Project-1-Elysium\n",
      "(use -f to force removal)\n"
     ]
    }
   ],
   "source": [
    "!git rm --cached Project-1-Elysium"
   ]
  },
  {
   "cell_type": "code",
   "execution_count": 23,
   "id": "242f26a2-04eb-436e-a228-a087ad2c5d67",
   "metadata": {},
   "outputs": [
    {
     "name": "stdout",
     "output_type": "stream",
     "text": [
      "C:\\Users\\jasmi\\Projects\\Project_1\\Project-1-Elysium\\Project-1-Elysium\n"
     ]
    }
   ],
   "source": [
    "cd Project-1-Elysium/"
   ]
  },
  {
   "cell_type": "code",
   "execution_count": 24,
   "id": "05a20ea8-1bde-4aaf-b283-e48cc6faf7a5",
   "metadata": {},
   "outputs": [
    {
     "name": "stderr",
     "output_type": "stream",
     "text": [
      "fatal: pathspec 'Project-1-Elysium' did not match any files\n"
     ]
    }
   ],
   "source": [
    "!git rm --cached Project-1-Elysium"
   ]
  },
  {
   "cell_type": "code",
   "execution_count": 26,
   "id": "a355241c-e371-4bcd-9c79-ba2b1f2c1249",
   "metadata": {},
   "outputs": [
    {
     "name": "stdout",
     "output_type": "stream",
     "text": [
      " Volume in drive C is Windows\n",
      " Volume Serial Number is EA52-B11C\n",
      "\n",
      " Directory of C:\\Users\\jasmi\\Projects\\Project_1\\Project-1-Elysium\n",
      "\n",
      "08/06/2024  03:11 PM    <DIR>          .\n",
      "08/01/2024  07:41 PM    <DIR>          ..\n",
      "08/06/2024  02:28 PM               121 .env\n",
      "08/01/2024  07:38 PM             3,139 .gitignore\n",
      "08/06/2024  02:55 PM    <DIR>          .ipynb_checkpoints\n",
      "08/05/2024  01:04 PM            97,847 annual_data_Los_Angeles_2014.csv\n",
      "08/05/2024  01:04 PM            97,041 annual_data_Los_Angeles_2015.csv\n",
      "08/05/2024  01:04 PM            67,873 annual_data_Los_Angeles_2016.csv\n",
      "08/05/2024  01:04 PM            87,871 annual_data_Los_Angeles_2017.csv\n",
      "08/05/2024  01:04 PM            99,489 annual_data_Los_Angeles_2018.csv\n",
      "08/05/2024  01:04 PM            96,112 annual_data_Los_Angeles_2019.csv\n",
      "08/05/2024  01:05 PM           128,810 annual_data_Los_Angeles_2020.csv\n",
      "08/05/2024  01:04 PM           106,356 annual_data_Los_Angeles_2021.csv\n",
      "08/05/2024  01:05 PM            96,602 annual_data_Los_Angeles_2022.csv\n",
      "08/05/2024  01:05 PM            62,022 annual_data_Los_Angeles_2023.csv\n",
      "08/05/2024  01:39 PM           115,975 annual_data_New_York_2014.csv\n",
      "08/05/2024  01:39 PM           121,123 annual_data_New_York_2015.csv\n",
      "08/05/2024  01:39 PM           141,408 annual_data_New_York_2016.csv\n",
      "08/05/2024  01:40 PM           142,091 annual_data_New_York_2017.csv\n",
      "08/05/2024  01:40 PM           159,697 annual_data_New_York_2018.csv\n",
      "08/05/2024  01:40 PM           150,254 annual_data_New_York_2019.csv\n",
      "08/05/2024  01:40 PM           143,688 annual_data_New_York_2020.csv\n",
      "08/05/2024  01:40 PM           129,996 annual_data_New_York_2021.csv\n",
      "08/05/2024  01:41 PM           138,850 annual_data_New_York_2022.csv\n",
      "08/05/2024  01:41 PM           295,385 annual_data_New_York_2023.csv\n",
      "08/01/2024  07:38 PM             3,504 AQI_line_chart.ipynb\n",
      "08/05/2024  01:59 PM               228 Los_Angeles_aqi_by_year.csv\n",
      "08/01/2024  07:38 PM               431 main.ipynb\n",
      "08/05/2024  01:48 PM               220 New_York_aqi_by_year.csv\n",
      "08/01/2024  07:38 PM            16,122 Open-Meteo Starter.ipynb\n",
      "08/05/2024  07:43 PM           316,685 open-meteo-weather.csv\n",
      "08/06/2024  02:33 PM             1,316 pip install python-dotenv.py\n",
      "08/06/2024  03:06 PM    <DIR>          Project-1-Elysium\n",
      "08/05/2024  07:43 PM               757 README.md\n",
      "08/06/2024  03:00 PM             3,535 starter code EPA.ipynb\n",
      "08/06/2024  02:38 PM             1,227 starter code EPA.py\n",
      "08/01/2024  08:39 PM               225 tulsa_aqi_by_year.csv\n",
      "08/05/2024  07:43 PM    <DIR>          Tulsa_Data\n",
      "08/06/2024  03:11 PM            16,540 Untitled.ipynb\n",
      "              34 File(s)      2,842,540 bytes\n",
      "               5 Dir(s)  184,739,291,136 bytes free\n"
     ]
    }
   ],
   "source": [
    "ls"
   ]
  },
  {
   "cell_type": "code",
   "execution_count": 32,
   "id": "cdc1ea5c-4734-4365-9408-5aaf3c457e1b",
   "metadata": {},
   "outputs": [
    {
     "name": "stderr",
     "output_type": "stream",
     "text": [
      "The system cannot find the file specified.\n"
     ]
    }
   ],
   "source": [
    "!rmdir /S /Q Project-1-Elysium\\.git\n",
    "\n"
   ]
  },
  {
   "cell_type": "code",
   "execution_count": 31,
   "id": "83264cd0-5331-43e7-ab0b-bd99f8e91ac2",
   "metadata": {},
   "outputs": [
    {
     "name": "stdout",
     "output_type": "stream",
     "text": [
      " Volume in drive C is Windows\n",
      " Volume Serial Number is EA52-B11C\n",
      "\n",
      " Directory of C:\\Users\\jasmi\\Projects\\Project_1\\Project-1-Elysium\n",
      "\n",
      "08/06/2024  03:15 PM    <DIR>          .\n",
      "08/01/2024  07:41 PM    <DIR>          ..\n",
      "08/06/2024  02:28 PM               121 .env\n",
      "08/01/2024  07:38 PM             3,139 .gitignore\n",
      "08/06/2024  02:55 PM    <DIR>          .ipynb_checkpoints\n",
      "08/05/2024  01:04 PM            97,847 annual_data_Los_Angeles_2014.csv\n",
      "08/05/2024  01:04 PM            97,041 annual_data_Los_Angeles_2015.csv\n",
      "08/05/2024  01:04 PM            67,873 annual_data_Los_Angeles_2016.csv\n",
      "08/05/2024  01:04 PM            87,871 annual_data_Los_Angeles_2017.csv\n",
      "08/05/2024  01:04 PM            99,489 annual_data_Los_Angeles_2018.csv\n",
      "08/05/2024  01:04 PM            96,112 annual_data_Los_Angeles_2019.csv\n",
      "08/05/2024  01:05 PM           128,810 annual_data_Los_Angeles_2020.csv\n",
      "08/05/2024  01:04 PM           106,356 annual_data_Los_Angeles_2021.csv\n",
      "08/05/2024  01:05 PM            96,602 annual_data_Los_Angeles_2022.csv\n",
      "08/05/2024  01:05 PM            62,022 annual_data_Los_Angeles_2023.csv\n",
      "08/05/2024  01:39 PM           115,975 annual_data_New_York_2014.csv\n",
      "08/05/2024  01:39 PM           121,123 annual_data_New_York_2015.csv\n",
      "08/05/2024  01:39 PM           141,408 annual_data_New_York_2016.csv\n",
      "08/05/2024  01:40 PM           142,091 annual_data_New_York_2017.csv\n",
      "08/05/2024  01:40 PM           159,697 annual_data_New_York_2018.csv\n",
      "08/05/2024  01:40 PM           150,254 annual_data_New_York_2019.csv\n",
      "08/05/2024  01:40 PM           143,688 annual_data_New_York_2020.csv\n",
      "08/05/2024  01:40 PM           129,996 annual_data_New_York_2021.csv\n",
      "08/05/2024  01:41 PM           138,850 annual_data_New_York_2022.csv\n",
      "08/05/2024  01:41 PM           295,385 annual_data_New_York_2023.csv\n",
      "08/01/2024  07:38 PM             3,504 AQI_line_chart.ipynb\n",
      "08/05/2024  01:59 PM               228 Los_Angeles_aqi_by_year.csv\n",
      "08/01/2024  07:38 PM               431 main.ipynb\n",
      "08/05/2024  01:48 PM               220 New_York_aqi_by_year.csv\n",
      "08/01/2024  07:38 PM            16,122 Open-Meteo Starter.ipynb\n",
      "08/05/2024  07:43 PM           316,685 open-meteo-weather.csv\n",
      "08/06/2024  02:33 PM             1,316 pip install python-dotenv.py\n",
      "08/06/2024  03:17 PM    <DIR>          Project-1-Elysium\n",
      "08/05/2024  07:43 PM               757 README.md\n",
      "08/06/2024  03:00 PM             3,535 starter code EPA.ipynb\n",
      "08/06/2024  02:38 PM             1,227 starter code EPA.py\n",
      "08/01/2024  08:39 PM               225 tulsa_aqi_by_year.csv\n",
      "08/05/2024  07:43 PM    <DIR>          Tulsa_Data\n",
      "08/06/2024  03:15 PM            20,453 Untitled.ipynb\n",
      "              34 File(s)      2,846,453 bytes\n",
      "               5 Dir(s)  184,743,809,024 bytes free\n"
     ]
    }
   ],
   "source": [
    "ls"
   ]
  },
  {
   "cell_type": "code",
   "execution_count": 33,
   "id": "81e4f02d-97d9-4d54-aef1-545b3aa5156b",
   "metadata": {},
   "outputs": [
    {
     "name": "stdout",
     "output_type": "stream",
     "text": [
      "C:\\Users\\jasmi\\Projects\\Project_1\\Project-1-Elysium\\.env\n",
      "C:\\Users\\jasmi\\Projects\\Project_1\\Project-1-Elysium\\.gitignore\n",
      "C:\\Users\\jasmi\\Projects\\Project_1\\Project-1-Elysium\\.ipynb_checkpoints\n",
      "C:\\Users\\jasmi\\Projects\\Project_1\\Project-1-Elysium\\annual_data_Los_Angeles_2014.csv\n",
      "C:\\Users\\jasmi\\Projects\\Project_1\\Project-1-Elysium\\annual_data_Los_Angeles_2015.csv\n",
      "C:\\Users\\jasmi\\Projects\\Project_1\\Project-1-Elysium\\annual_data_Los_Angeles_2016.csv\n",
      "C:\\Users\\jasmi\\Projects\\Project_1\\Project-1-Elysium\\annual_data_Los_Angeles_2017.csv\n",
      "C:\\Users\\jasmi\\Projects\\Project_1\\Project-1-Elysium\\annual_data_Los_Angeles_2018.csv\n",
      "C:\\Users\\jasmi\\Projects\\Project_1\\Project-1-Elysium\\annual_data_Los_Angeles_2019.csv\n",
      "C:\\Users\\jasmi\\Projects\\Project_1\\Project-1-Elysium\\annual_data_Los_Angeles_2020.csv\n",
      "C:\\Users\\jasmi\\Projects\\Project_1\\Project-1-Elysium\\annual_data_Los_Angeles_2021.csv\n",
      "C:\\Users\\jasmi\\Projects\\Project_1\\Project-1-Elysium\\annual_data_Los_Angeles_2022.csv\n",
      "C:\\Users\\jasmi\\Projects\\Project_1\\Project-1-Elysium\\annual_data_Los_Angeles_2023.csv\n",
      "C:\\Users\\jasmi\\Projects\\Project_1\\Project-1-Elysium\\annual_data_New_York_2014.csv\n",
      "C:\\Users\\jasmi\\Projects\\Project_1\\Project-1-Elysium\\annual_data_New_York_2015.csv\n",
      "C:\\Users\\jasmi\\Projects\\Project_1\\Project-1-Elysium\\annual_data_New_York_2016.csv\n",
      "C:\\Users\\jasmi\\Projects\\Project_1\\Project-1-Elysium\\annual_data_New_York_2017.csv\n",
      "C:\\Users\\jasmi\\Projects\\Project_1\\Project-1-Elysium\\annual_data_New_York_2018.csv\n",
      "C:\\Users\\jasmi\\Projects\\Project_1\\Project-1-Elysium\\annual_data_New_York_2019.csv\n",
      "C:\\Users\\jasmi\\Projects\\Project_1\\Project-1-Elysium\\annual_data_New_York_2020.csv\n",
      "C:\\Users\\jasmi\\Projects\\Project_1\\Project-1-Elysium\\annual_data_New_York_2021.csv\n",
      "C:\\Users\\jasmi\\Projects\\Project_1\\Project-1-Elysium\\annual_data_New_York_2022.csv\n",
      "C:\\Users\\jasmi\\Projects\\Project_1\\Project-1-Elysium\\annual_data_New_York_2023.csv\n",
      "C:\\Users\\jasmi\\Projects\\Project_1\\Project-1-Elysium\\AQI_line_chart.ipynb\n",
      "C:\\Users\\jasmi\\Projects\\Project_1\\Project-1-Elysium\\Los_Angeles_aqi_by_year.csv\n",
      "C:\\Users\\jasmi\\Projects\\Project_1\\Project-1-Elysium\\main.ipynb\n",
      "C:\\Users\\jasmi\\Projects\\Project_1\\Project-1-Elysium\\New_York_aqi_by_year.csv\n",
      "C:\\Users\\jasmi\\Projects\\Project_1\\Project-1-Elysium\\Open-Meteo Starter.ipynb\n",
      "C:\\Users\\jasmi\\Projects\\Project_1\\Project-1-Elysium\\open-meteo-weather.csv\n",
      "C:\\Users\\jasmi\\Projects\\Project_1\\Project-1-Elysium\\pip install python-dotenv.py\n",
      "C:\\Users\\jasmi\\Projects\\Project_1\\Project-1-Elysium\\Project-1-Elysium\n",
      "C:\\Users\\jasmi\\Projects\\Project_1\\Project-1-Elysium\\README.md\n",
      "C:\\Users\\jasmi\\Projects\\Project_1\\Project-1-Elysium\\starter code EPA.ipynb\n",
      "C:\\Users\\jasmi\\Projects\\Project_1\\Project-1-Elysium\\starter code EPA.py\n",
      "C:\\Users\\jasmi\\Projects\\Project_1\\Project-1-Elysium\\tulsa_aqi_by_year.csv\n",
      "C:\\Users\\jasmi\\Projects\\Project_1\\Project-1-Elysium\\Tulsa_Data\n",
      "C:\\Users\\jasmi\\Projects\\Project_1\\Project-1-Elysium\\Untitled.ipynb\n",
      "C:\\Users\\jasmi\\Projects\\Project_1\\Project-1-Elysium\\.git\\COMMIT_EDITMSG\n",
      "C:\\Users\\jasmi\\Projects\\Project_1\\Project-1-Elysium\\.git\\config\n",
      "C:\\Users\\jasmi\\Projects\\Project_1\\Project-1-Elysium\\.git\\description\n",
      "C:\\Users\\jasmi\\Projects\\Project_1\\Project-1-Elysium\\.git\\FETCH_HEAD\n",
      "C:\\Users\\jasmi\\Projects\\Project_1\\Project-1-Elysium\\.git\\HEAD\n",
      "C:\\Users\\jasmi\\Projects\\Project_1\\Project-1-Elysium\\.git\\hooks\n",
      "C:\\Users\\jasmi\\Projects\\Project_1\\Project-1-Elysium\\.git\\index\n",
      "C:\\Users\\jasmi\\Projects\\Project_1\\Project-1-Elysium\\.git\\info\n",
      "C:\\Users\\jasmi\\Projects\\Project_1\\Project-1-Elysium\\.git\\logs\n",
      "C:\\Users\\jasmi\\Projects\\Project_1\\Project-1-Elysium\\.git\\objects\n",
      "C:\\Users\\jasmi\\Projects\\Project_1\\Project-1-Elysium\\.git\\ORIG_HEAD\n",
      "C:\\Users\\jasmi\\Projects\\Project_1\\Project-1-Elysium\\.git\\packed-refs\n",
      "C:\\Users\\jasmi\\Projects\\Project_1\\Project-1-Elysium\\.git\\refs\n",
      "C:\\Users\\jasmi\\Projects\\Project_1\\Project-1-Elysium\\.git\\hooks\\applypatch-msg.sample\n",
      "C:\\Users\\jasmi\\Projects\\Project_1\\Project-1-Elysium\\.git\\hooks\\commit-msg.sample\n",
      "C:\\Users\\jasmi\\Projects\\Project_1\\Project-1-Elysium\\.git\\hooks\\fsmonitor-watchman.sample\n",
      "C:\\Users\\jasmi\\Projects\\Project_1\\Project-1-Elysium\\.git\\hooks\\post-update.sample\n",
      "C:\\Users\\jasmi\\Projects\\Project_1\\Project-1-Elysium\\.git\\hooks\\pre-applypatch.sample\n",
      "C:\\Users\\jasmi\\Projects\\Project_1\\Project-1-Elysium\\.git\\hooks\\pre-commit.sample\n",
      "C:\\Users\\jasmi\\Projects\\Project_1\\Project-1-Elysium\\.git\\hooks\\pre-merge-commit.sample\n",
      "C:\\Users\\jasmi\\Projects\\Project_1\\Project-1-Elysium\\.git\\hooks\\pre-push.sample\n",
      "C:\\Users\\jasmi\\Projects\\Project_1\\Project-1-Elysium\\.git\\hooks\\pre-rebase.sample\n",
      "C:\\Users\\jasmi\\Projects\\Project_1\\Project-1-Elysium\\.git\\hooks\\pre-receive.sample\n",
      "C:\\Users\\jasmi\\Projects\\Project_1\\Project-1-Elysium\\.git\\hooks\\prepare-commit-msg.sample\n",
      "C:\\Users\\jasmi\\Projects\\Project_1\\Project-1-Elysium\\.git\\hooks\\push-to-checkout.sample\n",
      "C:\\Users\\jasmi\\Projects\\Project_1\\Project-1-Elysium\\.git\\hooks\\sendemail-validate.sample\n",
      "C:\\Users\\jasmi\\Projects\\Project_1\\Project-1-Elysium\\.git\\hooks\\update.sample\n",
      "C:\\Users\\jasmi\\Projects\\Project_1\\Project-1-Elysium\\.git\\info\\exclude\n",
      "C:\\Users\\jasmi\\Projects\\Project_1\\Project-1-Elysium\\.git\\logs\\HEAD\n",
      "C:\\Users\\jasmi\\Projects\\Project_1\\Project-1-Elysium\\.git\\logs\\refs\n",
      "C:\\Users\\jasmi\\Projects\\Project_1\\Project-1-Elysium\\.git\\logs\\refs\\heads\n",
      "C:\\Users\\jasmi\\Projects\\Project_1\\Project-1-Elysium\\.git\\logs\\refs\\remotes\n",
      "C:\\Users\\jasmi\\Projects\\Project_1\\Project-1-Elysium\\.git\\logs\\refs\\heads\\main\n",
      "C:\\Users\\jasmi\\Projects\\Project_1\\Project-1-Elysium\\.git\\logs\\refs\\remotes\\origin\n",
      "C:\\Users\\jasmi\\Projects\\Project_1\\Project-1-Elysium\\.git\\logs\\refs\\remotes\\origin\\HEAD\n",
      "C:\\Users\\jasmi\\Projects\\Project_1\\Project-1-Elysium\\.git\\logs\\refs\\remotes\\origin\\main\n",
      "C:\\Users\\jasmi\\Projects\\Project_1\\Project-1-Elysium\\.git\\objects\\00\n",
      "C:\\Users\\jasmi\\Projects\\Project_1\\Project-1-Elysium\\.git\\objects\\03\n",
      "C:\\Users\\jasmi\\Projects\\Project_1\\Project-1-Elysium\\.git\\objects\\04\n",
      "C:\\Users\\jasmi\\Projects\\Project_1\\Project-1-Elysium\\.git\\objects\\07\n",
      "C:\\Users\\jasmi\\Projects\\Project_1\\Project-1-Elysium\\.git\\objects\\0a\n",
      "C:\\Users\\jasmi\\Projects\\Project_1\\Project-1-Elysium\\.git\\objects\\11\n",
      "C:\\Users\\jasmi\\Projects\\Project_1\\Project-1-Elysium\\.git\\objects\\12\n",
      "C:\\Users\\jasmi\\Projects\\Project_1\\Project-1-Elysium\\.git\\objects\\15\n",
      "C:\\Users\\jasmi\\Projects\\Project_1\\Project-1-Elysium\\.git\\objects\\17\n",
      "C:\\Users\\jasmi\\Projects\\Project_1\\Project-1-Elysium\\.git\\objects\\1a\n",
      "C:\\Users\\jasmi\\Projects\\Project_1\\Project-1-Elysium\\.git\\objects\\1d\n",
      "C:\\Users\\jasmi\\Projects\\Project_1\\Project-1-Elysium\\.git\\objects\\20\n",
      "C:\\Users\\jasmi\\Projects\\Project_1\\Project-1-Elysium\\.git\\objects\\23\n",
      "C:\\Users\\jasmi\\Projects\\Project_1\\Project-1-Elysium\\.git\\objects\\24\n",
      "C:\\Users\\jasmi\\Projects\\Project_1\\Project-1-Elysium\\.git\\objects\\28\n",
      "C:\\Users\\jasmi\\Projects\\Project_1\\Project-1-Elysium\\.git\\objects\\2d\n",
      "C:\\Users\\jasmi\\Projects\\Project_1\\Project-1-Elysium\\.git\\objects\\31\n",
      "C:\\Users\\jasmi\\Projects\\Project_1\\Project-1-Elysium\\.git\\objects\\33\n",
      "C:\\Users\\jasmi\\Projects\\Project_1\\Project-1-Elysium\\.git\\objects\\40\n",
      "C:\\Users\\jasmi\\Projects\\Project_1\\Project-1-Elysium\\.git\\objects\\4a\n",
      "C:\\Users\\jasmi\\Projects\\Project_1\\Project-1-Elysium\\.git\\objects\\54\n",
      "C:\\Users\\jasmi\\Projects\\Project_1\\Project-1-Elysium\\.git\\objects\\55\n",
      "C:\\Users\\jasmi\\Projects\\Project_1\\Project-1-Elysium\\.git\\objects\\57\n",
      "C:\\Users\\jasmi\\Projects\\Project_1\\Project-1-Elysium\\.git\\objects\\58\n",
      "C:\\Users\\jasmi\\Projects\\Project_1\\Project-1-Elysium\\.git\\objects\\5c\n",
      "C:\\Users\\jasmi\\Projects\\Project_1\\Project-1-Elysium\\.git\\objects\\60\n",
      "C:\\Users\\jasmi\\Projects\\Project_1\\Project-1-Elysium\\.git\\objects\\63\n",
      "C:\\Users\\jasmi\\Projects\\Project_1\\Project-1-Elysium\\.git\\objects\\65\n",
      "C:\\Users\\jasmi\\Projects\\Project_1\\Project-1-Elysium\\.git\\objects\\66\n",
      "C:\\Users\\jasmi\\Projects\\Project_1\\Project-1-Elysium\\.git\\objects\\69\n",
      "C:\\Users\\jasmi\\Projects\\Project_1\\Project-1-Elysium\\.git\\objects\\6a\n",
      "C:\\Users\\jasmi\\Projects\\Project_1\\Project-1-Elysium\\.git\\objects\\6e\n",
      "C:\\Users\\jasmi\\Projects\\Project_1\\Project-1-Elysium\\.git\\objects\\70\n",
      "C:\\Users\\jasmi\\Projects\\Project_1\\Project-1-Elysium\\.git\\objects\\73\n",
      "C:\\Users\\jasmi\\Projects\\Project_1\\Project-1-Elysium\\.git\\objects\\74\n",
      "C:\\Users\\jasmi\\Projects\\Project_1\\Project-1-Elysium\\.git\\objects\\77\n",
      "C:\\Users\\jasmi\\Projects\\Project_1\\Project-1-Elysium\\.git\\objects\\80\n",
      "C:\\Users\\jasmi\\Projects\\Project_1\\Project-1-Elysium\\.git\\objects\\88\n",
      "C:\\Users\\jasmi\\Projects\\Project_1\\Project-1-Elysium\\.git\\objects\\8b\n",
      "C:\\Users\\jasmi\\Projects\\Project_1\\Project-1-Elysium\\.git\\objects\\97\n",
      "C:\\Users\\jasmi\\Projects\\Project_1\\Project-1-Elysium\\.git\\objects\\99\n",
      "C:\\Users\\jasmi\\Projects\\Project_1\\Project-1-Elysium\\.git\\objects\\9a\n",
      "C:\\Users\\jasmi\\Projects\\Project_1\\Project-1-Elysium\\.git\\objects\\9f\n",
      "C:\\Users\\jasmi\\Projects\\Project_1\\Project-1-Elysium\\.git\\objects\\a4\n",
      "C:\\Users\\jasmi\\Projects\\Project_1\\Project-1-Elysium\\.git\\objects\\b4\n",
      "C:\\Users\\jasmi\\Projects\\Project_1\\Project-1-Elysium\\.git\\objects\\b7\n",
      "C:\\Users\\jasmi\\Projects\\Project_1\\Project-1-Elysium\\.git\\objects\\ba\n",
      "C:\\Users\\jasmi\\Projects\\Project_1\\Project-1-Elysium\\.git\\objects\\bb\n",
      "C:\\Users\\jasmi\\Projects\\Project_1\\Project-1-Elysium\\.git\\objects\\be\n",
      "C:\\Users\\jasmi\\Projects\\Project_1\\Project-1-Elysium\\.git\\objects\\bf\n",
      "C:\\Users\\jasmi\\Projects\\Project_1\\Project-1-Elysium\\.git\\objects\\c9\n",
      "C:\\Users\\jasmi\\Projects\\Project_1\\Project-1-Elysium\\.git\\objects\\cd\n",
      "C:\\Users\\jasmi\\Projects\\Project_1\\Project-1-Elysium\\.git\\objects\\d3\n",
      "C:\\Users\\jasmi\\Projects\\Project_1\\Project-1-Elysium\\.git\\objects\\e0\n",
      "C:\\Users\\jasmi\\Projects\\Project_1\\Project-1-Elysium\\.git\\objects\\e4\n",
      "C:\\Users\\jasmi\\Projects\\Project_1\\Project-1-Elysium\\.git\\objects\\f1\n",
      "C:\\Users\\jasmi\\Projects\\Project_1\\Project-1-Elysium\\.git\\objects\\f2\n",
      "C:\\Users\\jasmi\\Projects\\Project_1\\Project-1-Elysium\\.git\\objects\\f3\n",
      "C:\\Users\\jasmi\\Projects\\Project_1\\Project-1-Elysium\\.git\\objects\\f5\n",
      "C:\\Users\\jasmi\\Projects\\Project_1\\Project-1-Elysium\\.git\\objects\\f8\n",
      "C:\\Users\\jasmi\\Projects\\Project_1\\Project-1-Elysium\\.git\\objects\\fa\n",
      "C:\\Users\\jasmi\\Projects\\Project_1\\Project-1-Elysium\\.git\\objects\\fb\n",
      "C:\\Users\\jasmi\\Projects\\Project_1\\Project-1-Elysium\\.git\\objects\\info\n",
      "C:\\Users\\jasmi\\Projects\\Project_1\\Project-1-Elysium\\.git\\objects\\pack\n",
      "C:\\Users\\jasmi\\Projects\\Project_1\\Project-1-Elysium\\.git\\objects\\00\\604ac0ad428887b09dfd62d407b67fd07cf47c\n",
      "C:\\Users\\jasmi\\Projects\\Project_1\\Project-1-Elysium\\.git\\objects\\03\\f03f91f0f0bd7d11f76ac4368c2a4f2287b58a\n",
      "C:\\Users\\jasmi\\Projects\\Project_1\\Project-1-Elysium\\.git\\objects\\04\\0926c7206df74ba6811b57d08d36f425027462\n",
      "C:\\Users\\jasmi\\Projects\\Project_1\\Project-1-Elysium\\.git\\objects\\07\\00f7cc415c24997f00c352905e5831a8526acd\n",
      "C:\\Users\\jasmi\\Projects\\Project_1\\Project-1-Elysium\\.git\\objects\\0a\\67d5bcdf2d2f64a0d0452f868dd45e9c40938e\n",
      "C:\\Users\\jasmi\\Projects\\Project_1\\Project-1-Elysium\\.git\\objects\\11\\1281d550a30d156761c430b26cc313c1bb0b36\n",
      "C:\\Users\\jasmi\\Projects\\Project_1\\Project-1-Elysium\\.git\\objects\\12\\4e83e43ef55a3cc6cc0e23612c0beaddae260e\n",
      "C:\\Users\\jasmi\\Projects\\Project_1\\Project-1-Elysium\\.git\\objects\\15\\5e05b2716a32d61a38397bb26d8adf50f983a5\n",
      "C:\\Users\\jasmi\\Projects\\Project_1\\Project-1-Elysium\\.git\\objects\\15\\9d94a2fc15491a4b3565c5d36ba84079cdfbd6\n",
      "C:\\Users\\jasmi\\Projects\\Project_1\\Project-1-Elysium\\.git\\objects\\17\\82dd144b7d2fc437855c8d42c4c3d10e8185ff\n",
      "C:\\Users\\jasmi\\Projects\\Project_1\\Project-1-Elysium\\.git\\objects\\1a\\4c25d4280097e1d8f38374b946add9a36b7a05\n",
      "C:\\Users\\jasmi\\Projects\\Project_1\\Project-1-Elysium\\.git\\objects\\1d\\2b88df1b8bd74a36c4bcc7d6ed0e41464b87db\n",
      "C:\\Users\\jasmi\\Projects\\Project_1\\Project-1-Elysium\\.git\\objects\\20\\79fe00a4486572c9abda9d30fd939641bcecdd\n",
      "C:\\Users\\jasmi\\Projects\\Project_1\\Project-1-Elysium\\.git\\objects\\23\\1aef1f5f4e9f694ee6e47e9a3541def2d6e15b\n",
      "C:\\Users\\jasmi\\Projects\\Project_1\\Project-1-Elysium\\.git\\objects\\24\\fbaf3d0066dc36963d1a52217f04e968a03304\n",
      "C:\\Users\\jasmi\\Projects\\Project_1\\Project-1-Elysium\\.git\\objects\\28\\58855e29497e67b1be6e317d0904fbcf20e63f\n",
      "C:\\Users\\jasmi\\Projects\\Project_1\\Project-1-Elysium\\.git\\objects\\2d\\39060114a057fe2c9ea4026ec7d2afd0233110\n",
      "C:\\Users\\jasmi\\Projects\\Project_1\\Project-1-Elysium\\.git\\objects\\31\\8cc08628dd25e6c895d30ae0616e04caeb537d\n",
      "C:\\Users\\jasmi\\Projects\\Project_1\\Project-1-Elysium\\.git\\objects\\33\\eec9002b3a077955aaa68478569ffd0a00126c\n",
      "C:\\Users\\jasmi\\Projects\\Project_1\\Project-1-Elysium\\.git\\objects\\40\\0775d100b867032a4c74d50fc76fbf1d169551\n",
      "C:\\Users\\jasmi\\Projects\\Project_1\\Project-1-Elysium\\.git\\objects\\4a\\86cf3ea50d34bf358a202ba94bd07c713088f1\n",
      "C:\\Users\\jasmi\\Projects\\Project_1\\Project-1-Elysium\\.git\\objects\\54\\56714ccca133e2daba3e409c7f4c688cacca49\n",
      "C:\\Users\\jasmi\\Projects\\Project_1\\Project-1-Elysium\\.git\\objects\\55\\732464f6080e5792f10a4ab42587c47271ed43\n",
      "C:\\Users\\jasmi\\Projects\\Project_1\\Project-1-Elysium\\.git\\objects\\57\\9d100c163cf492434e8aa4d2d17040f54c1c6d\n",
      "C:\\Users\\jasmi\\Projects\\Project_1\\Project-1-Elysium\\.git\\objects\\58\\0e531f7f4c5826639b295038b2620260b55769\n",
      "C:\\Users\\jasmi\\Projects\\Project_1\\Project-1-Elysium\\.git\\objects\\5c\\18f7e285f7562b52c2e2438c4deaafe392aad5\n",
      "C:\\Users\\jasmi\\Projects\\Project_1\\Project-1-Elysium\\.git\\objects\\60\\28e0542253bf7beaa287c68a2f7b6260b47e91\n",
      "C:\\Users\\jasmi\\Projects\\Project_1\\Project-1-Elysium\\.git\\objects\\63\\b6921af1e3b6560b566214af7162e9bc827fd7\n",
      "C:\\Users\\jasmi\\Projects\\Project_1\\Project-1-Elysium\\.git\\objects\\65\\0cfe4313340b3273c1c6f3fcc3012e63bd1209\n",
      "C:\\Users\\jasmi\\Projects\\Project_1\\Project-1-Elysium\\.git\\objects\\66\\81bdc6750a47d1a302d4123d0d13b87d7ded7d\n",
      "C:\\Users\\jasmi\\Projects\\Project_1\\Project-1-Elysium\\.git\\objects\\69\\341c09bec1f4fe5717151ae11f4f1517481c54\n",
      "C:\\Users\\jasmi\\Projects\\Project_1\\Project-1-Elysium\\.git\\objects\\6a\\8725b085b0d0d6cc7ad356c2aa81784937c0b4\n",
      "C:\\Users\\jasmi\\Projects\\Project_1\\Project-1-Elysium\\.git\\objects\\6e\\1c8b64208800741c32012be854114118b1e950\n",
      "C:\\Users\\jasmi\\Projects\\Project_1\\Project-1-Elysium\\.git\\objects\\70\\c9af03f0c0cf21617829966887dcce6d9f13ff\n",
      "C:\\Users\\jasmi\\Projects\\Project_1\\Project-1-Elysium\\.git\\objects\\73\\b7ef2e58986aecd97be4f905eae3a2a20a4b2c\n",
      "C:\\Users\\jasmi\\Projects\\Project_1\\Project-1-Elysium\\.git\\objects\\74\\ab921a3725faa09dd6f6973c73258d766e334a\n",
      "C:\\Users\\jasmi\\Projects\\Project_1\\Project-1-Elysium\\.git\\objects\\77\\09125e1c444d515e4885010c8764db44f87a15\n",
      "C:\\Users\\jasmi\\Projects\\Project_1\\Project-1-Elysium\\.git\\objects\\80\\627d17987a98b06db82b976a54eba67462d976\n",
      "C:\\Users\\jasmi\\Projects\\Project_1\\Project-1-Elysium\\.git\\objects\\88\\5c9e2dcbf516f31a9392dcef8d6384b0c4b055\n",
      "C:\\Users\\jasmi\\Projects\\Project_1\\Project-1-Elysium\\.git\\objects\\8b\\079f76dd5485c0c76d49d9d5d5cc2549b3d85a\n",
      "C:\\Users\\jasmi\\Projects\\Project_1\\Project-1-Elysium\\.git\\objects\\8b\\40244b8d84443932c7060a867cc93a3911fa1b\n",
      "C:\\Users\\jasmi\\Projects\\Project_1\\Project-1-Elysium\\.git\\objects\\97\\3da7ccb2161998765fbc8392355c37fb04a389\n",
      "C:\\Users\\jasmi\\Projects\\Project_1\\Project-1-Elysium\\.git\\objects\\99\\1ca43fd3ec249f242f2ef69f5bfa9baab95c3c\n",
      "C:\\Users\\jasmi\\Projects\\Project_1\\Project-1-Elysium\\.git\\objects\\9a\\ae7325161f94a5131bd23510ac384f82b5583b\n",
      "C:\\Users\\jasmi\\Projects\\Project_1\\Project-1-Elysium\\.git\\objects\\9f\\4e8d7d622763902f3fdd4749dda7d4e3b8c029\n",
      "C:\\Users\\jasmi\\Projects\\Project_1\\Project-1-Elysium\\.git\\objects\\a4\\44b3580d9b8fa6f443c8f5acb9698d2bf26bda\n",
      "C:\\Users\\jasmi\\Projects\\Project_1\\Project-1-Elysium\\.git\\objects\\b4\\1195245df95183619e67e4c039f66e236575e4\n",
      "C:\\Users\\jasmi\\Projects\\Project_1\\Project-1-Elysium\\.git\\objects\\b7\\9929a560c3b3a4c7278b97bec044d1ba1fbd1f\n",
      "C:\\Users\\jasmi\\Projects\\Project_1\\Project-1-Elysium\\.git\\objects\\ba\\4579ad263811e85b300ac710cc55c67e0ffa4a\n",
      "C:\\Users\\jasmi\\Projects\\Project_1\\Project-1-Elysium\\.git\\objects\\ba\\a3afb083f671f4dd1252e2ade000d6337a071e\n",
      "C:\\Users\\jasmi\\Projects\\Project_1\\Project-1-Elysium\\.git\\objects\\bb\\2c567c3da44f779332e73541e43ff7ec787b6c\n",
      "C:\\Users\\jasmi\\Projects\\Project_1\\Project-1-Elysium\\.git\\objects\\be\\3a1d09abe2bfdfe7adaadb319bb24f99be021b\n",
      "C:\\Users\\jasmi\\Projects\\Project_1\\Project-1-Elysium\\.git\\objects\\bf\\1310984b5ca5446ca6079f562ea933b0ea93e7\n",
      "C:\\Users\\jasmi\\Projects\\Project_1\\Project-1-Elysium\\.git\\objects\\c9\\403f2299e3e66f55fa8e7f0e5cb3ab6ae9f5b2\n",
      "C:\\Users\\jasmi\\Projects\\Project_1\\Project-1-Elysium\\.git\\objects\\cd\\9425bd7f9e411b61b03ae56c1d595521a72d57\n",
      "C:\\Users\\jasmi\\Projects\\Project_1\\Project-1-Elysium\\.git\\objects\\d3\\f6178574464ae3b7a833923e2503eb6de2f533\n",
      "C:\\Users\\jasmi\\Projects\\Project_1\\Project-1-Elysium\\.git\\objects\\e0\\954e4afcd0ffddba621f4b1f865bbc50460c2d\n",
      "C:\\Users\\jasmi\\Projects\\Project_1\\Project-1-Elysium\\.git\\objects\\e4\\394129aa1633a89203d3d22ade48d3dee148a6\n",
      "C:\\Users\\jasmi\\Projects\\Project_1\\Project-1-Elysium\\.git\\objects\\f1\\b6005a7bad1c8b13481efa36d5482ddbb8d80a\n",
      "C:\\Users\\jasmi\\Projects\\Project_1\\Project-1-Elysium\\.git\\objects\\f2\\8a3ec221b012f898e53ffe01157f0e95da22fb\n",
      "C:\\Users\\jasmi\\Projects\\Project_1\\Project-1-Elysium\\.git\\objects\\f3\\ce971fa2817a76c31c00a6782596ec6dcbf3f1\n",
      "C:\\Users\\jasmi\\Projects\\Project_1\\Project-1-Elysium\\.git\\objects\\f5\\1516d363eca746294b3fe8b84a6e8397cd5b1e\n",
      "C:\\Users\\jasmi\\Projects\\Project_1\\Project-1-Elysium\\.git\\objects\\f8\\b640f97d4ba66f972d6795418acb626c642586\n",
      "C:\\Users\\jasmi\\Projects\\Project_1\\Project-1-Elysium\\.git\\objects\\fa\\fdfe70d39da02c08f094ee8a14698c6cead276\n",
      "C:\\Users\\jasmi\\Projects\\Project_1\\Project-1-Elysium\\.git\\objects\\fb\\6bce36e4ccd7123a50b1da7cb457029453c688\n",
      "C:\\Users\\jasmi\\Projects\\Project_1\\Project-1-Elysium\\.git\\objects\\pack\\pack-f64905f565ebc37f22f137f44f8e03b3e521ac9a.idx\n",
      "C:\\Users\\jasmi\\Projects\\Project_1\\Project-1-Elysium\\.git\\objects\\pack\\pack-f64905f565ebc37f22f137f44f8e03b3e521ac9a.pack\n",
      "C:\\Users\\jasmi\\Projects\\Project_1\\Project-1-Elysium\\.git\\objects\\pack\\pack-f64905f565ebc37f22f137f44f8e03b3e521ac9a.rev\n",
      "C:\\Users\\jasmi\\Projects\\Project_1\\Project-1-Elysium\\.git\\refs\\heads\n",
      "C:\\Users\\jasmi\\Projects\\Project_1\\Project-1-Elysium\\.git\\refs\\remotes\n",
      "C:\\Users\\jasmi\\Projects\\Project_1\\Project-1-Elysium\\.git\\refs\\tags\n",
      "C:\\Users\\jasmi\\Projects\\Project_1\\Project-1-Elysium\\.git\\refs\\heads\\main\n",
      "C:\\Users\\jasmi\\Projects\\Project_1\\Project-1-Elysium\\.git\\refs\\remotes\\origin\n",
      "C:\\Users\\jasmi\\Projects\\Project_1\\Project-1-Elysium\\.git\\refs\\remotes\\origin\\HEAD\n",
      "C:\\Users\\jasmi\\Projects\\Project_1\\Project-1-Elysium\\.git\\refs\\remotes\\origin\\main\n",
      "C:\\Users\\jasmi\\Projects\\Project_1\\Project-1-Elysium\\.ipynb_checkpoints\\starter code EPA-checkpoint.py\n",
      "C:\\Users\\jasmi\\Projects\\Project_1\\Project-1-Elysium\\.ipynb_checkpoints\\Untitled-checkpoint.ipynb\n",
      "C:\\Users\\jasmi\\Projects\\Project_1\\Project-1-Elysium\\Project-1-Elysium\\.gitignore\n",
      "C:\\Users\\jasmi\\Projects\\Project_1\\Project-1-Elysium\\Project-1-Elysium\\AQI_line_chart.ipynb\n",
      "C:\\Users\\jasmi\\Projects\\Project_1\\Project-1-Elysium\\Project-1-Elysium\\LA_Data\n",
      "C:\\Users\\jasmi\\Projects\\Project_1\\Project-1-Elysium\\Project-1-Elysium\\main.ipynb\n",
      "C:\\Users\\jasmi\\Projects\\Project_1\\Project-1-Elysium\\Project-1-Elysium\\New_York_Data\n",
      "C:\\Users\\jasmi\\Projects\\Project_1\\Project-1-Elysium\\Project-1-Elysium\\Open-Meteo Starter.ipynb\n",
      "C:\\Users\\jasmi\\Projects\\Project_1\\Project-1-Elysium\\Project-1-Elysium\\open-meteo-weather.csv\n",
      "C:\\Users\\jasmi\\Projects\\Project_1\\Project-1-Elysium\\Project-1-Elysium\\README.md\n",
      "C:\\Users\\jasmi\\Projects\\Project_1\\Project-1-Elysium\\Project-1-Elysium\\Tulsa_Data\n",
      "C:\\Users\\jasmi\\Projects\\Project_1\\Project-1-Elysium\\Project-1-Elysium\\LA_Data\\annual_data_Los_Angeles_2015.csv\n",
      "C:\\Users\\jasmi\\Projects\\Project_1\\Project-1-Elysium\\Project-1-Elysium\\LA_Data\\annual_data_Los_Angeles_2016.csv\n",
      "C:\\Users\\jasmi\\Projects\\Project_1\\Project-1-Elysium\\Project-1-Elysium\\LA_Data\\annual_data_Los_Angeles_2017.csv\n",
      "C:\\Users\\jasmi\\Projects\\Project_1\\Project-1-Elysium\\Project-1-Elysium\\LA_Data\\annual_data_Los_Angeles_2018.csv\n",
      "C:\\Users\\jasmi\\Projects\\Project_1\\Project-1-Elysium\\Project-1-Elysium\\LA_Data\\annual_data_Los_Angeles_2019.csv\n",
      "C:\\Users\\jasmi\\Projects\\Project_1\\Project-1-Elysium\\Project-1-Elysium\\LA_Data\\annual_data_Los_Angeles_2020.csv\n",
      "C:\\Users\\jasmi\\Projects\\Project_1\\Project-1-Elysium\\Project-1-Elysium\\LA_Data\\annual_data_Los_Angeles_2021.csv\n",
      "C:\\Users\\jasmi\\Projects\\Project_1\\Project-1-Elysium\\Project-1-Elysium\\LA_Data\\annual_data_Los_Angeles_2022.csv\n",
      "C:\\Users\\jasmi\\Projects\\Project_1\\Project-1-Elysium\\Project-1-Elysium\\LA_Data\\annual_data_Los_Angeles_2023.csv\n",
      "C:\\Users\\jasmi\\Projects\\Project_1\\Project-1-Elysium\\Project-1-Elysium\\LA_Data\\Los_Angeles_aqi_by_year.csv\n",
      "C:\\Users\\jasmi\\Projects\\Project_1\\Project-1-Elysium\\Project-1-Elysium\\New_York_Data\\annual_data_Los_Angeles_2014.csv\n",
      "C:\\Users\\jasmi\\Projects\\Project_1\\Project-1-Elysium\\Project-1-Elysium\\New_York_Data\\annual_data_New_York_2014.csv\n",
      "C:\\Users\\jasmi\\Projects\\Project_1\\Project-1-Elysium\\Project-1-Elysium\\New_York_Data\\annual_data_New_York_2015.csv\n",
      "C:\\Users\\jasmi\\Projects\\Project_1\\Project-1-Elysium\\Project-1-Elysium\\New_York_Data\\annual_data_New_York_2016.csv\n",
      "C:\\Users\\jasmi\\Projects\\Project_1\\Project-1-Elysium\\Project-1-Elysium\\New_York_Data\\annual_data_New_York_2017.csv\n",
      "C:\\Users\\jasmi\\Projects\\Project_1\\Project-1-Elysium\\Project-1-Elysium\\New_York_Data\\annual_data_New_York_2018.csv\n",
      "C:\\Users\\jasmi\\Projects\\Project_1\\Project-1-Elysium\\Project-1-Elysium\\New_York_Data\\annual_data_New_York_2019.csv\n",
      "C:\\Users\\jasmi\\Projects\\Project_1\\Project-1-Elysium\\Project-1-Elysium\\New_York_Data\\annual_data_New_York_2020.csv\n",
      "C:\\Users\\jasmi\\Projects\\Project_1\\Project-1-Elysium\\Project-1-Elysium\\New_York_Data\\annual_data_New_York_2021.csv\n",
      "C:\\Users\\jasmi\\Projects\\Project_1\\Project-1-Elysium\\Project-1-Elysium\\New_York_Data\\annual_data_New_York_2022.csv\n",
      "C:\\Users\\jasmi\\Projects\\Project_1\\Project-1-Elysium\\Project-1-Elysium\\New_York_Data\\annual_data_New_York_2023.csv\n",
      "C:\\Users\\jasmi\\Projects\\Project_1\\Project-1-Elysium\\Project-1-Elysium\\New_York_Data\\New_York_aqi_by_year.csv\n",
      "C:\\Users\\jasmi\\Projects\\Project_1\\Project-1-Elysium\\Project-1-Elysium\\Tulsa_Data\\annual_data_Tulsa_2014.csv\n",
      "C:\\Users\\jasmi\\Projects\\Project_1\\Project-1-Elysium\\Project-1-Elysium\\Tulsa_Data\\annual_data_Tulsa_2015.csv\n",
      "C:\\Users\\jasmi\\Projects\\Project_1\\Project-1-Elysium\\Project-1-Elysium\\Tulsa_Data\\annual_data_Tulsa_2016.csv\n",
      "C:\\Users\\jasmi\\Projects\\Project_1\\Project-1-Elysium\\Project-1-Elysium\\Tulsa_Data\\annual_data_Tulsa_2017.csv\n",
      "C:\\Users\\jasmi\\Projects\\Project_1\\Project-1-Elysium\\Project-1-Elysium\\Tulsa_Data\\annual_data_Tulsa_2018.csv\n",
      "C:\\Users\\jasmi\\Projects\\Project_1\\Project-1-Elysium\\Project-1-Elysium\\Tulsa_Data\\annual_data_Tulsa_2019.csv\n",
      "C:\\Users\\jasmi\\Projects\\Project_1\\Project-1-Elysium\\Project-1-Elysium\\Tulsa_Data\\annual_data_Tulsa_2020.csv\n",
      "C:\\Users\\jasmi\\Projects\\Project_1\\Project-1-Elysium\\Project-1-Elysium\\Tulsa_Data\\annual_data_Tulsa_2021.csv\n",
      "C:\\Users\\jasmi\\Projects\\Project_1\\Project-1-Elysium\\Project-1-Elysium\\Tulsa_Data\\annual_data_Tulsa_2022.csv\n",
      "C:\\Users\\jasmi\\Projects\\Project_1\\Project-1-Elysium\\Project-1-Elysium\\Tulsa_Data\\annual_data_Tulsa_2023.csv\n",
      "C:\\Users\\jasmi\\Projects\\Project_1\\Project-1-Elysium\\Project-1-Elysium\\Tulsa_Data\\annual_data_Tulsa_2024.csv\n",
      "C:\\Users\\jasmi\\Projects\\Project_1\\Project-1-Elysium\\Project-1-Elysium\\Tulsa_Data\\tulsa_aqi_by_year.csv\n",
      "C:\\Users\\jasmi\\Projects\\Project_1\\Project-1-Elysium\\Tulsa_Data\\annual_data_Tulsa_2014.csv\n",
      "C:\\Users\\jasmi\\Projects\\Project_1\\Project-1-Elysium\\Tulsa_Data\\annual_data_Tulsa_2015.csv\n",
      "C:\\Users\\jasmi\\Projects\\Project_1\\Project-1-Elysium\\Tulsa_Data\\annual_data_Tulsa_2016.csv\n",
      "C:\\Users\\jasmi\\Projects\\Project_1\\Project-1-Elysium\\Tulsa_Data\\annual_data_Tulsa_2017.csv\n",
      "C:\\Users\\jasmi\\Projects\\Project_1\\Project-1-Elysium\\Tulsa_Data\\annual_data_Tulsa_2018.csv\n",
      "C:\\Users\\jasmi\\Projects\\Project_1\\Project-1-Elysium\\Tulsa_Data\\annual_data_Tulsa_2019.csv\n",
      "C:\\Users\\jasmi\\Projects\\Project_1\\Project-1-Elysium\\Tulsa_Data\\annual_data_Tulsa_2020.csv\n",
      "C:\\Users\\jasmi\\Projects\\Project_1\\Project-1-Elysium\\Tulsa_Data\\annual_data_Tulsa_2021.csv\n",
      "C:\\Users\\jasmi\\Projects\\Project_1\\Project-1-Elysium\\Tulsa_Data\\annual_data_Tulsa_2022.csv\n",
      "C:\\Users\\jasmi\\Projects\\Project_1\\Project-1-Elysium\\Tulsa_Data\\annual_data_Tulsa_2023.csv\n",
      "C:\\Users\\jasmi\\Projects\\Project_1\\Project-1-Elysium\\Tulsa_Data\\annual_data_Tulsa_2024.csv\n"
     ]
    }
   ],
   "source": [
    "!dir /S /B"
   ]
  },
  {
   "cell_type": "code",
   "execution_count": 34,
   "id": "61ad70cf-8a28-4c88-9674-9f009243d345",
   "metadata": {},
   "outputs": [],
   "source": [
    "!git add ."
   ]
  },
  {
   "cell_type": "code",
   "execution_count": 35,
   "id": "70c87f64-929d-4334-8091-2bc37f223abd",
   "metadata": {},
   "outputs": [
    {
     "name": "stdout",
     "output_type": "stream",
     "text": [
      "[main 9cd61e7] Add Jupyter Notebook and other files\n",
      " 5 files changed, 1134 insertions(+)\n",
      " create mode 160000 Project-1-Elysium\n",
      " create mode 100644 Untitled.ipynb\n",
      " create mode 100644 pip install python-dotenv.py\n",
      " create mode 100644 starter code EPA.ipynb\n",
      " create mode 100644 starter code EPA.py\n"
     ]
    }
   ],
   "source": [
    "!git commit -m \"Add Jupyter Notebook and other files\"\n"
   ]
  },
  {
   "cell_type": "code",
   "execution_count": 36,
   "id": "2ad6469d-b43b-478a-83d1-ea981aaabaaa",
   "metadata": {},
   "outputs": [],
   "source": [
    "!echo \"starter code EPA.ipynb\" >> .gitignore\n",
    "!echo \".env\" >> .gitignore\n"
   ]
  },
  {
   "cell_type": "code",
   "execution_count": 37,
   "id": "2009750e-06c6-4af3-be28-e792203b906d",
   "metadata": {},
   "outputs": [
    {
     "name": "stdout",
     "output_type": "stream",
     "text": [
      "rm 'starter code EPA.ipynb'\n"
     ]
    },
    {
     "name": "stderr",
     "output_type": "stream",
     "text": [
      "fatal: pathspec '.env' did not match any files\n"
     ]
    }
   ],
   "source": [
    "!git rm --cached \"starter code EPA.ipynb\"\n",
    "!git rm --cached .env\n"
   ]
  },
  {
   "cell_type": "code",
   "execution_count": 38,
   "id": "6c2d49a4-ca36-46c0-ac70-d9a17ca0d7eb",
   "metadata": {},
   "outputs": [
    {
     "name": "stdout",
     "output_type": "stream",
     "text": [
      " Volume in drive C is Windows\n",
      " Volume Serial Number is EA52-B11C\n",
      "\n",
      " Directory of C:\\Users\\jasmi\\Projects\\Project_1\\Project-1-Elysium\n",
      "\n",
      "08/06/2024  03:23 PM    <DIR>          .\n",
      "08/01/2024  07:41 PM    <DIR>          ..\n",
      "08/06/2024  02:28 PM               121 .env\n",
      "08/06/2024  03:22 PM             3,175 .gitignore\n",
      "08/06/2024  02:55 PM    <DIR>          .ipynb_checkpoints\n",
      "08/05/2024  01:04 PM            97,847 annual_data_Los_Angeles_2014.csv\n",
      "08/05/2024  01:04 PM            97,041 annual_data_Los_Angeles_2015.csv\n",
      "08/05/2024  01:04 PM            67,873 annual_data_Los_Angeles_2016.csv\n",
      "08/05/2024  01:04 PM            87,871 annual_data_Los_Angeles_2017.csv\n",
      "08/05/2024  01:04 PM            99,489 annual_data_Los_Angeles_2018.csv\n",
      "08/05/2024  01:04 PM            96,112 annual_data_Los_Angeles_2019.csv\n",
      "08/05/2024  01:05 PM           128,810 annual_data_Los_Angeles_2020.csv\n",
      "08/05/2024  01:04 PM           106,356 annual_data_Los_Angeles_2021.csv\n",
      "08/05/2024  01:05 PM            96,602 annual_data_Los_Angeles_2022.csv\n",
      "08/05/2024  01:05 PM            62,022 annual_data_Los_Angeles_2023.csv\n",
      "08/05/2024  01:39 PM           115,975 annual_data_New_York_2014.csv\n",
      "08/05/2024  01:39 PM           121,123 annual_data_New_York_2015.csv\n",
      "08/05/2024  01:39 PM           141,408 annual_data_New_York_2016.csv\n",
      "08/05/2024  01:40 PM           142,091 annual_data_New_York_2017.csv\n",
      "08/05/2024  01:40 PM           159,697 annual_data_New_York_2018.csv\n",
      "08/05/2024  01:40 PM           150,254 annual_data_New_York_2019.csv\n",
      "08/05/2024  01:40 PM           143,688 annual_data_New_York_2020.csv\n",
      "08/05/2024  01:40 PM           129,996 annual_data_New_York_2021.csv\n",
      "08/05/2024  01:41 PM           138,850 annual_data_New_York_2022.csv\n",
      "08/05/2024  01:41 PM           295,385 annual_data_New_York_2023.csv\n",
      "08/01/2024  07:38 PM             3,504 AQI_line_chart.ipynb\n",
      "08/05/2024  01:59 PM               228 Los_Angeles_aqi_by_year.csv\n",
      "08/01/2024  07:38 PM               431 main.ipynb\n",
      "08/05/2024  01:48 PM               220 New_York_aqi_by_year.csv\n",
      "08/01/2024  07:38 PM            16,122 Open-Meteo Starter.ipynb\n",
      "08/05/2024  07:43 PM           316,685 open-meteo-weather.csv\n",
      "08/06/2024  02:33 PM             1,316 pip install python-dotenv.py\n",
      "08/06/2024  03:17 PM    <DIR>          Project-1-Elysium\n",
      "08/05/2024  07:43 PM               757 README.md\n",
      "08/06/2024  03:00 PM             3,535 starter code EPA.ipynb\n",
      "08/06/2024  02:38 PM             1,227 starter code EPA.py\n",
      "08/01/2024  08:39 PM               225 tulsa_aqi_by_year.csv\n",
      "08/05/2024  07:43 PM    <DIR>          Tulsa_Data\n",
      "08/06/2024  03:23 PM            54,174 Untitled.ipynb\n",
      "              34 File(s)      2,880,210 bytes\n",
      "               5 Dir(s)  184,740,585,472 bytes free\n"
     ]
    }
   ],
   "source": [
    "ls"
   ]
  },
  {
   "cell_type": "code",
   "execution_count": 39,
   "id": "5dfc166d-9bd1-481e-adc6-08e821442a7e",
   "metadata": {},
   "outputs": [
    {
     "name": "stdout",
     "output_type": "stream",
     "text": [
      "['.env', '.git', '.gitignore', '.ipynb_checkpoints', 'annual_data_Los_Angeles_2014.csv', 'annual_data_Los_Angeles_2015.csv', 'annual_data_Los_Angeles_2016.csv', 'annual_data_Los_Angeles_2017.csv', 'annual_data_Los_Angeles_2018.csv', 'annual_data_Los_Angeles_2019.csv', 'annual_data_Los_Angeles_2020.csv', 'annual_data_Los_Angeles_2021.csv', 'annual_data_Los_Angeles_2022.csv', 'annual_data_Los_Angeles_2023.csv', 'annual_data_New_York_2014.csv', 'annual_data_New_York_2015.csv', 'annual_data_New_York_2016.csv', 'annual_data_New_York_2017.csv', 'annual_data_New_York_2018.csv', 'annual_data_New_York_2019.csv', 'annual_data_New_York_2020.csv', 'annual_data_New_York_2021.csv', 'annual_data_New_York_2022.csv', 'annual_data_New_York_2023.csv', 'AQI_line_chart.ipynb', 'Los_Angeles_aqi_by_year.csv', 'main.ipynb', 'New_York_aqi_by_year.csv', 'Open-Meteo Starter.ipynb', 'open-meteo-weather.csv', 'pip install python-dotenv.py', 'Project-1-Elysium', 'README.md', 'starter code EPA.ipynb', 'starter code EPA.py', 'tulsa_aqi_by_year.csv', 'Tulsa_Data', 'Untitled.ipynb']\n"
     ]
    }
   ],
   "source": [
    "import os\n",
    "\n",
    "# List all files in the current directory\n",
    "print(os.listdir())\n"
   ]
  },
  {
   "cell_type": "code",
   "execution_count": 40,
   "id": "7cb552e8-128c-4aac-af27-adc53b86c448",
   "metadata": {},
   "outputs": [],
   "source": [
    "!echo \"starter code EPA.ipynb\" >> .gitignore\n",
    "!echo \".env\" >> .gitignore\n"
   ]
  },
  {
   "cell_type": "code",
   "execution_count": 41,
   "id": "8de467f0-ef9c-47d1-8854-a1ab3e9179e2",
   "metadata": {},
   "outputs": [
    {
     "name": "stderr",
     "output_type": "stream",
     "text": [
      "fatal: pathspec 'starter code EPA.ipynb' did not match any files\n",
      "fatal: pathspec '.env' did not match any files\n"
     ]
    }
   ],
   "source": [
    "!git rm --cached \"starter code EPA.ipynb\"\n",
    "!git rm --cached .env\n"
   ]
  },
  {
   "cell_type": "code",
   "execution_count": 42,
   "id": "342273c1-cf1c-455c-b262-9df3ade94748",
   "metadata": {},
   "outputs": [
    {
     "name": "stdout",
     "output_type": "stream",
     "text": [
      "[main 0b2a66d] Update .gitignore to exclude starter code EPA.ipynb and .env\n",
      " 1 file changed, 158 deletions(-)\n",
      " delete mode 100644 starter code EPA.ipynb\n"
     ]
    }
   ],
   "source": [
    "!git commit -m \"Update .gitignore to exclude starter code EPA.ipynb and .env\"\n"
   ]
  },
  {
   "cell_type": "code",
   "execution_count": 44,
   "id": "caca9d14-cbf7-49c5-aa94-7365812fa616",
   "metadata": {},
   "outputs": [
    {
     "name": "stdout",
     "output_type": "stream",
     "text": [
      "Merge made by the 'ort' strategy.\n",
      " Los_Angeles_aqi_by_year.csv => LA_Data/Los_Angeles_aqi_by_year.csv        | 0\n",
      " .../annual_data_Los_Angeles_2015.csv                                      | 0\n",
      " .../annual_data_Los_Angeles_2016.csv                                      | 0\n",
      " .../annual_data_Los_Angeles_2017.csv                                      | 0\n",
      " .../annual_data_Los_Angeles_2018.csv                                      | 0\n",
      " .../annual_data_Los_Angeles_2019.csv                                      | 0\n",
      " .../annual_data_Los_Angeles_2020.csv                                      | 0\n",
      " .../annual_data_Los_Angeles_2021.csv                                      | 0\n",
      " .../annual_data_Los_Angeles_2022.csv                                      | 0\n",
      " .../annual_data_Los_Angeles_2023.csv                                      | 0\n",
      " New_York_aqi_by_year.csv => New_York_Data/New_York_aqi_by_year.csv        | 0\n",
      " .../annual_data_Los_Angeles_2014.csv                                      | 0\n",
      " .../annual_data_New_York_2014.csv                                         | 0\n",
      " .../annual_data_New_York_2015.csv                                         | 0\n",
      " .../annual_data_New_York_2016.csv                                         | 0\n",
      " .../annual_data_New_York_2017.csv                                         | 0\n",
      " .../annual_data_New_York_2018.csv                                         | 0\n",
      " .../annual_data_New_York_2019.csv                                         | 0\n",
      " .../annual_data_New_York_2020.csv                                         | 0\n",
      " .../annual_data_New_York_2021.csv                                         | 0\n",
      " .../annual_data_New_York_2022.csv                                         | 0\n",
      " .../annual_data_New_York_2023.csv                                         | 0\n",
      " tulsa_aqi_by_year.csv => Tulsa_Data/tulsa_aqi_by_year.csv                 | 0\n",
      " 23 files changed, 0 insertions(+), 0 deletions(-)\n",
      " rename Los_Angeles_aqi_by_year.csv => LA_Data/Los_Angeles_aqi_by_year.csv (100%)\n",
      " rename annual_data_Los_Angeles_2015.csv => LA_Data/annual_data_Los_Angeles_2015.csv (100%)\n",
      " rename annual_data_Los_Angeles_2016.csv => LA_Data/annual_data_Los_Angeles_2016.csv (100%)\n",
      " rename annual_data_Los_Angeles_2017.csv => LA_Data/annual_data_Los_Angeles_2017.csv (100%)\n",
      " rename annual_data_Los_Angeles_2018.csv => LA_Data/annual_data_Los_Angeles_2018.csv (100%)\n",
      " rename annual_data_Los_Angeles_2019.csv => LA_Data/annual_data_Los_Angeles_2019.csv (100%)\n",
      " rename annual_data_Los_Angeles_2020.csv => LA_Data/annual_data_Los_Angeles_2020.csv (100%)\n",
      " rename annual_data_Los_Angeles_2021.csv => LA_Data/annual_data_Los_Angeles_2021.csv (100%)\n",
      " rename annual_data_Los_Angeles_2022.csv => LA_Data/annual_data_Los_Angeles_2022.csv (100%)\n",
      " rename annual_data_Los_Angeles_2023.csv => LA_Data/annual_data_Los_Angeles_2023.csv (100%)\n",
      " rename New_York_aqi_by_year.csv => New_York_Data/New_York_aqi_by_year.csv (100%)\n",
      " rename annual_data_Los_Angeles_2014.csv => New_York_Data/annual_data_Los_Angeles_2014.csv (100%)\n",
      " rename annual_data_New_York_2014.csv => New_York_Data/annual_data_New_York_2014.csv (100%)\n",
      " rename annual_data_New_York_2015.csv => New_York_Data/annual_data_New_York_2015.csv (100%)\n",
      " rename annual_data_New_York_2016.csv => New_York_Data/annual_data_New_York_2016.csv (100%)\n",
      " rename annual_data_New_York_2017.csv => New_York_Data/annual_data_New_York_2017.csv (100%)\n",
      " rename annual_data_New_York_2018.csv => New_York_Data/annual_data_New_York_2018.csv (100%)\n",
      " rename annual_data_New_York_2019.csv => New_York_Data/annual_data_New_York_2019.csv (100%)\n",
      " rename annual_data_New_York_2020.csv => New_York_Data/annual_data_New_York_2020.csv (100%)\n",
      " rename annual_data_New_York_2021.csv => New_York_Data/annual_data_New_York_2021.csv (100%)\n",
      " rename annual_data_New_York_2022.csv => New_York_Data/annual_data_New_York_2022.csv (100%)\n",
      " rename annual_data_New_York_2023.csv => New_York_Data/annual_data_New_York_2023.csv (100%)\n",
      " rename tulsa_aqi_by_year.csv => Tulsa_Data/tulsa_aqi_by_year.csv (100%)\n"
     ]
    },
    {
     "name": "stderr",
     "output_type": "stream",
     "text": [
      "From https://github.com/jamonit16/Project-1-Elysium\n",
      " * branch            main       -> FETCH_HEAD\n",
      "   f51516d..407d44c  main       -> origin/main\n",
      "warning: in the working copy of '.gitignore', CRLF will be replaced by LF the next time Git touches it\n",
      "warning: unable to unlink 'annual_data_Los_Angeles_2014.csv': Invalid argument\n",
      "warning: unable to unlink 'annual_data_Los_Angeles_2019.csv': Invalid argument\n",
      "warning: unable to unlink 'annual_data_Los_Angeles_2021.csv': Invalid argument\n"
     ]
    }
   ],
   "source": [
    "!git pull origin main\n"
   ]
  },
  {
   "cell_type": "code",
   "execution_count": 45,
   "id": "6362ecb9-9b96-4503-8bd9-d40f2fb5dc77",
   "metadata": {},
   "outputs": [
    {
     "name": "stderr",
     "output_type": "stream",
     "text": [
      "To https://github.com/jamonit16/Project-1-Elysium.git\n",
      "   407d44c..d6fc395  main -> main\n"
     ]
    }
   ],
   "source": [
    "!git push origin main"
   ]
  }
 ],
 "metadata": {
  "kernelspec": {
   "display_name": "Python 3 (ipykernel)",
   "language": "python",
   "name": "python3"
  },
  "language_info": {
   "codemirror_mode": {
    "name": "ipython",
    "version": 3
   },
   "file_extension": ".py",
   "mimetype": "text/x-python",
   "name": "python",
   "nbconvert_exporter": "python",
   "pygments_lexer": "ipython3",
   "version": "3.11.7"
  }
 },
 "nbformat": 4,
 "nbformat_minor": 5
}
