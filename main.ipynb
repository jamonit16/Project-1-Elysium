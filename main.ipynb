{
  "cells": [
    {
      "cell_type": "markdown",
      "metadata": {},
      "source": [
        "# OPEN METEO API"
      ]
    },
    {
      "cell_type": "code",
      "execution_count": null,
      "metadata": {},
      "outputs": [],
      "source": [
        "#Install\n",
        "!pip install openmeteo-requests\n",
        "!pip install requests-cache retry-requests numpy pandas",
        "!pip install python-dotenv"
      ]
    },
    {
      "cell_type": "code",
      "execution_count": null,
      "metadata": {},
      "outputs": [],
      "source": [
        "#Import Dependencies\n",
        "import openmeteo_requests\n",
        "\n",
        "import requests_cache\n",
        "import pandas as pd\n",
        "from retry_requests import retry"
      ]
    },
    {
      "cell_type": "code",
      "execution_count": null,
      "metadata": {},
      "outputs": [],
      "source": [
        "#Setup the Open-Meteo API Client with cache and retry on error\n",
        "cache_session = requests_cache.CachedSession('.cache', expire_after = -1)\n",
        "retry_session = retry(cache_session, retries = 5, backoff_factor = 0.2)\n",
        "openmeteo = openmeteo_requests.Client(session = retry_session)"
      ]
    },
    {
      "cell_type": "code",
      "execution_count": null,
      "metadata": {},
      "outputs": [],
      "source": [
        "#Make sure all required weather variables are listed here\n",
        "# The order of variables in hourly or daily is important to assign them correctly below\n",
        "url = \"https://archive-api.open-meteo.com/v1/archive\"\n",
        "params = {\n",
        "\t\"latitude\": [36.154, 40.7128, 34.0549],\n",
        "\t\"longitude\": [95.9928, 74.006, 118.2426],\n",
        "\t\"start_date\": \"2014-01-01\",\n",
        "\t\"end_date\": \"2023-12-31\",\n",
        "\t\"hourly\": \"relative_humidity_2m\",\n",
        "\t\"daily\": [\"temperature_2m_max\", \"temperature_2m_min\", \"precipitation_sum\"],\n",
        "\t\"temperature_unit\": \"fahrenheit\",\n",
        "\t\"precipitation_unit\": \"inch\",\n",
        "\t\"timezone\": \"America/Chicago\"\n",
        "}\n",
        "responses = openmeteo.weather_api(url, params=params)"
      ]
    },
    {
      "cell_type": "code",
      "execution_count": null,
      "metadata": {},
      "outputs": [],
      "source": [
        "# Process first location. Add a for-loop for multiple locations or weather models\n",
        "response = responses[0]\n",
        "print(f\"Coordinates {response.Latitude()}°N {response.Longitude()}°E\")\n",
        "print(f\"Elevation {response.Elevation()} m asl\")\n",
        "print(f\"Timezone {response.Timezone()} {response.TimezoneAbbreviation()}\")\n",
        "print(f\"Timezone difference to GMT+0 {response.UtcOffsetSeconds()} s\")"
      ]
    },
    {
      "cell_type": "code",
      "execution_count": null,
      "metadata": {},
      "outputs": [],
      "source": [
        "# Process first location. Add a for-loop for multiple locations or weather models\n",
        "response = responses[0]\n",
        "print(f\"Coordinates {response.Latitude()}°N {response.Longitude()}°E\")\n",
        "print(f\"Elevation {response.Elevation()} m asl\")\n",
        "print(f\"Timezone {response.Timezone()} {response.TimezoneAbbreviation()}\")\n",
        "print(f\"Timezone difference to GMT+0 {response.UtcOffsetSeconds()} s\")\n",
        "\n",
        "# Process hourly data. The order of variables needs to be the same as requested.\n",
        "hourly = response.Hourly()\n",
        "hourly_relative_humidity_2m = hourly.Variables(0).ValuesAsNumpy()\n",
        "\n",
        "hourly_data = {\"date\": pd.date_range(\n",
        "\tstart = pd.to_datetime(hourly.Time(), unit = \"s\", utc = True),\n",
        "\tend = pd.to_datetime(hourly.TimeEnd(), unit = \"s\", utc = True),\n",
        "\tfreq = pd.Timedelta(seconds = hourly.Interval()),\n",
        "\tinclusive = \"left\"\n",
        ")}\n",
        "hourly_data[\"relative_humidity_2m\"] = hourly_relative_humidity_2m\n",
        "\n",
        "hourly_dataframe = pd.DataFrame(data = hourly_data)\n",
        "print(hourly_dataframe)"
      ]
    },
    {
      "cell_type": "code",
      "execution_count": null,
      "metadata": {},
      "outputs": [],
      "source": [
        "# Process daily data. The order of variables needs to be the same as requested.\n",
        "daily = response.Daily()\n",
        "daily_temperature_2m_max = daily.Variables(0).ValuesAsNumpy()\n",
        "daily_temperature_2m_min = daily.Variables(1).ValuesAsNumpy()\n",
        "daily_precipitation_sum = daily.Variables(2).ValuesAsNumpy()\n",
        "\n",
        "daily_data = {\"date\": pd.date_range(\n",
        "\tstart = pd.to_datetime(daily.Time(), unit = \"s\", utc = True),\n",
        "\tend = pd.to_datetime(daily.TimeEnd(), unit = \"s\", utc = True),\n",
        "\tfreq = pd.Timedelta(seconds = daily.Interval()),\n",
        "\tinclusive = \"left\"\n",
        ")}\n",
        "daily_data[\"temperature_2m_max\"] = daily_temperature_2m_max\n",
        "daily_data[\"temperature_2m_min\"] = daily_temperature_2m_min\n",
        "daily_data[\"precipitation_sum\"] = daily_precipitation_sum\n",
        "\n",
        "daily_dataframe = pd.DataFrame(data = daily_data)\n",
        "print(daily_dataframe)"
      ]
    },
    {
      "cell_type": "markdown",
      "metadata": {},
      "source": [
        "# EPA API CONCATED"
      ]
    },
    {
      "cell_type": "code",
      "execution_count": null,
      "metadata": {
        "id": "-fyNLFifhnzV"
      },
      "outputs": [],
      "source": [
        "import requests\n",
        "import pandas as pd\n",
        "from dotenv import load_dotenv\n",
        "import os\n",
        "\n",
        "load_dotenv()\n",
        "\n",
        "api_key = os.getenv('EPA_API_KEY')\n",
        "email_key = os.getenv('MY_EMAIL')\n",
        "\n",
        "\n",
        "def fetch_aqi_data(year, api_key):\n",
        "    url = 'https://aqs.epa.gov/data/api/annualData/byCBSA'\n",
        "    params = {\n",
        "        'email': email_key,\n",
        "        'key': api_key,\n",
        "        'param': '88101',  # Parameter code for PM2.5\n",
        "        'bdate': f'{year}0101',\n",
        "        'edate': f'{year}1231',\n",
        "        'cbsa': '35620'  # CBSA code for the desired area\n",
        "    }\n",
        "    response = requests.get(url, params=params)\n",
        "    data = response.json()\n",
        "    return pd.DataFrame(data['Data'])\n",
        "\n",
        "# Define the range of years\n",
        "years = range(2014, 2023)  # Adjust this range as needed\n",
        "\n",
        "# Fetch and concatenate data for each year\n",
        "all_data = pd.DataFrame()\n",
        "for year in years:\n",
        "    yearly_data = fetch_aqi_data(year, api_key)\n",
        "    all_data = pd.concat([all_data, yearly_data])\n",
        "\n",
        "# Reset the index after concatenation\n",
        "all_data.reset_index(drop=True, inplace=True)\n",
        "\n",
        "# Convert the correct date column to datetime format\n",
        "all_data['first_max_datetime'] = pd.to_datetime(all_data['first_max_datetime'])\n",
        "\n",
        "# Set the correct date column as the index\n",
        "all_data.set_index('first_max_datetime', inplace=True)\n",
        "\n",
        "# View the combined DataFrame\n",
        "print(all_data.head())\n",
        "print(all_data.tail())"
      ]
    },
    {
      "cell_type": "markdown",
      "metadata": {},
      "source": [
        "# DATA CONCATED "
      ]
    },
    {
      "cell_type": "code",
      "execution_count": null,
      "metadata": {},
      "outputs": [],
      "source": [
        "#Code to Combine Data (Under Construction)\n",
        "Error404"
      ]
    }
  ],
  "metadata": {
    "colab": {
      "provenance": []
    },
    "kernelspec": {
      "display_name": "Python 3",
      "name": "python3"
    },
    "language_info": {
      "name": "python"
    }
  },
  "nbformat": 4,
  "nbformat_minor": 0
}
