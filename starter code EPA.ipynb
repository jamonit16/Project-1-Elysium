{
 "cells": [
  {
   "cell_type": "code",
   "execution_count": null,
   "id": "8d5df16f",
   "metadata": {
    "lines_to_next_cell": 0
   },
   "outputs": [],
   "source": []
  },
  {
   "cell_type": "code",
   "execution_count": null,
   "id": "d7263689",
   "metadata": {},
   "outputs": [],
   "source": [
    "import requests\n",
    "import pandas as pd\n",
    "from dotenv import load_dotenv\n",
    "import os"
   ]
  },
  {
   "cell_type": "code",
   "execution_count": null,
   "id": "f9da2f59",
   "metadata": {},
   "outputs": [],
   "source": [
    "load_dotenv()"
   ]
  },
  {
   "cell_type": "code",
   "execution_count": null,
   "id": "c49efeba",
   "metadata": {},
   "outputs": [],
   "source": [
    "api_key = os.getenv('EPA_API_KEY')"
   ]
  },
  {
   "cell_type": "code",
   "execution_count": null,
   "id": "6d533383",
   "metadata": {},
   "outputs": [],
   "source": []
  },
  {
   "cell_type": "code",
   "execution_count": null,
   "id": "e48e1768",
   "metadata": {
    "lines_to_next_cell": 1
   },
   "outputs": [],
   "source": [
    "def fetch_aqi_data(year, api_key):\n",
    "    url = 'https://aqs.epa.gov/data/api/annualData/byCBSA'\n",
    "    params = {\n",
    "        'email': 'massmediafan@gmail.com',\n",
    "        'key': api_key,\n",
    "        'param': '88101',  # Column for PM2.5\n",
    "        'bdate': f'{year}0101',\n",
    "        'edate': f'{year}1231',\n",
    "        'cbsa': '35620'  # CBSA code for Tulsa, LA or NY\n",
    "    }\n",
    "    response = requests.get(url, params=params)\n",
    "    data = response.json()\n",
    "    return pd.DataFrame(data['Data'])"
   ]
  },
  {
   "cell_type": "code",
   "execution_count": null,
   "id": "ab2d6285",
   "metadata": {},
   "outputs": [],
   "source": [
    "# Range of years\n",
    "years = range(2014, 2023)  # Adjust this range as needed"
   ]
  },
  {
   "cell_type": "code",
   "execution_count": null,
   "id": "44e0a45e",
   "metadata": {},
   "outputs": [],
   "source": [
    "# Concatenate data for each year\n",
    "all_data = pd.DataFrame()\n",
    "for year in years:\n",
    "    yearly_data = fetch_aqi_data(year, api_key)\n",
    "    all_data = pd.concat([all_data, yearly_data])"
   ]
  },
  {
   "cell_type": "code",
   "execution_count": null,
   "id": "44052ba6",
   "metadata": {},
   "outputs": [],
   "source": [
    "# Reset the index\n",
    "all_data.reset_index(drop=True, inplace=True)"
   ]
  },
  {
   "cell_type": "code",
   "execution_count": null,
   "id": "baae6d8b",
   "metadata": {},
   "outputs": [],
   "source": [
    "# Convert first max datetime for dates\n",
    "all_data['first_max_datetime'] = pd.to_datetime(all_data['first_max_datetime'])"
   ]
  },
  {
   "cell_type": "code",
   "execution_count": null,
   "id": "7e326d25",
   "metadata": {},
   "outputs": [],
   "source": [
    "# Set date column as the index\n",
    "all_data.set_index('first_max_datetime', inplace=True)"
   ]
  },
  {
   "cell_type": "code",
   "execution_count": null,
   "id": "3846a450",
   "metadata": {},
   "outputs": [],
   "source": [
    "# View DataFrame\n",
    "print(all_data.head())\n",
    "print(all_data.tail())"
   ]
  }
 ],
 "metadata": {
  "jupytext": {
   "cell_metadata_filter": "-all",
   "main_language": "python",
   "notebook_metadata_filter": "-all"
  }
 },
 "nbformat": 4,
 "nbformat_minor": 5
}
