{
 "cells": [
  {
   "cell_type": "code",
   "execution_count": 1,
   "id": "8d5df16f",
   "metadata": {
    "lines_to_next_cell": 0
   },
   "outputs": [
    {
     "name": "stdout",
     "output_type": "stream",
     "text": [
      "Defaulting to user installation because normal site-packages is not writeable\n",
      "Requirement already satisfied: python-dotenv in c:\\programdata\\anaconda3\\lib\\site-packages (0.21.0)\n"
     ]
    }
   ],
   "source": [
    "!pip install python-dotenv"
   ]
  },
  {
   "cell_type": "code",
   "execution_count": 2,
   "id": "d7263689",
   "metadata": {},
   "outputs": [],
   "source": [
    "import requests\n",
    "import pandas as pd\n",
    "from dotenv import load_dotenv\n",
    "import os"
   ]
  },
  {
   "cell_type": "code",
   "execution_count": 3,
   "id": "f9da2f59",
   "metadata": {},
   "outputs": [
    {
     "data": {
      "text/plain": [
       "True"
      ]
     },
     "execution_count": 3,
     "metadata": {},
     "output_type": "execute_result"
    }
   ],
   "source": [
    "load_dotenv()"
   ]
  },
  {
   "cell_type": "code",
   "execution_count": 4,
   "id": "c49efeba",
   "metadata": {},
   "outputs": [],
   "source": [
    "api_key = os.getenv('EPA_API_KEY')"
   ]
  },
  {
   "cell_type": "code",
   "execution_count": 21,
   "id": "e48e1768",
   "metadata": {
    "lines_to_next_cell": 1
   },
   "outputs": [],
   "source": [
    "def fetch_aqi_data(year, api_key):\n",
    "    url = 'https://aqs.epa.gov/data/api/annualData/byCBSA'\n",
    "    params = {\n",
    "        'email': 'massmediafan@gmail.com',\n",
    "        'key': api_key,\n",
    "        'param': '88101',  # Column for PM2.5\n",
    "        'bdate': f'{year}0101',\n",
    "        'edate': f'{year}1231',\n",
    "        'cbsa': cbsa  # CBSA code for Tulsa, LA and NY define later\n",
    "    }\n",
    "    response = requests.get(url, params=params)\n",
    "    data = response.json()\n",
    "    # Debugging: print the response content\n",
    "    print(f\"Year: {year}, CBSA: {cbsa}, Response: {data}\")\n",
    "\n",
    "    if 'Data' in data:\n",
    "        return pd.DataFrame(data['Data'])\n",
    "    else:\n",
    "        return pd.DataFrame()  # Return an empty DataFrame if 'Data' key is missing"
   ]
  },
  {
   "cell_type": "code",
   "execution_count": 24,
   "id": "46ee9ac9-ed9b-4358-97c8-7a2f2524652c",
   "metadata": {},
   "outputs": [],
   "source": [
    "api_key = os.getenv('EPA_API_KEY')"
   ]
  },
  {
   "cell_type": "code",
   "execution_count": 25,
   "id": "ab2d6285",
   "metadata": {},
   "outputs": [],
   "source": [
    "# Range of years\n",
    "years = range(2014, 2024)  # Adjust this range as needed"
   ]
  },
  {
   "cell_type": "code",
   "execution_count": 26,
   "id": "13197db9-0a2c-4a9f-b17d-43b8c8710b98",
   "metadata": {},
   "outputs": [],
   "source": [
    "# CBSA codes\n",
    "cbsa_codes = {\n",
    "    'Tulsa': '35620', \n",
    "    'Los Angeles': '31080',\n",
    "    'New York': '46140'\n",
    "}"
   ]
  },
  {
   "cell_type": "code",
   "execution_count": 27,
   "id": "44e0a45e",
   "metadata": {},
   "outputs": [],
   "source": [
    "def fetch_aqi_data(year, api_key, cbsa_code):\n",
    "    # EmptyDataFrame to avoid NoneType errors\n",
    "    \n",
    "    return pd.DataFrame()  # Temporary placeholder\n",
    "\n",
    "# Concatenate data for the years and CBSA codes\n",
    "all_data = pd.DataFrame()\n",
    "\n",
    "for cbsa_name, cbsa_code in cbsa_codes.items():\n",
    "    for year in years:\n",
    "        yearly_data = fetch_aqi_data(year, api_key, cbsa_code)\n",
    "        if not yearly_data.empty:\n",
    "            yearly_data['CBSA'] = cbsa_name  # Add a column for CBSA name\n",
    "            all_data = pd.concat([all_data, yearly_data])"
   ]
  },
  {
   "cell_type": "code",
   "execution_count": 28,
   "id": "44052ba6",
   "metadata": {},
   "outputs": [],
   "source": [
    "# Reset the index\n",
    "all_data.reset_index(drop=True, inplace=True)"
   ]
  },
  {
   "cell_type": "code",
   "execution_count": 29,
   "id": "62f12cb5-a25f-44f9-a34c-a39e0a6cc65b",
   "metadata": {},
   "outputs": [],
   "source": [
    "# Convert the date column to datetime format if needed\n",
    "if 'second_max_datetime' in all_data.columns:\n",
    "    all_data['second_max_datetime'] = pd.to_datetime(all_data['second_max_datetime'])"
   ]
  },
  {
   "cell_type": "code",
   "execution_count": 30,
   "id": "254b21c3-316f-4f42-b37c-c0b16631f864",
   "metadata": {},
   "outputs": [
    {
     "name": "stdout",
     "output_type": "stream",
     "text": [
      "No valid data to plot.\n"
     ]
    }
   ],
   "source": [
    "# Group the data by year and CBSA code and calculate the average first_max_value for each year\n",
    "if not all_data.empty and 'second_max_datetime' in all_data.columns:\n",
    "    yearly_aqi = all_data.groupby([all_data['second_max_datetime'].dt.year, 'CBSA'])['first_max_value'].mean().unstack()\n",
    "    \n",
    "    # Plot \n",
    "    plt.figure(figsize=(10, 6))\n",
    "    for cbsa in cbsa_codes.keys():\n",
    "        if cbsa in yearly_aqi.columns:\n",
    "            plt.plot(yearly_aqi.index, yearly_aqi[cbsa], marker='o', linestyle='-', label=cbsa)\n",
    "\n",
    "    plt.title('Average AQI (First Max Value) Over the Last Decade')\n",
    "    plt.xlabel('Year')\n",
    "    plt.ylabel('Average AQI (First Max Value)')\n",
    "    plt.legend(title='CBSA')\n",
    "    plt.grid(True)\n",
    "    plt.show()\n",
    "else:\n",
    "    print(\"No valid data to plot.\")"
   ]
  },
  {
   "cell_type": "code",
   "execution_count": null,
   "id": "b98315ba-065a-46d2-a246-c0bffacce8a5",
   "metadata": {},
   "outputs": [],
   "source": []
  }
 ],
 "metadata": {
  "jupytext": {
   "cell_metadata_filter": "-all",
   "main_language": "python",
   "notebook_metadata_filter": "-all"
  },
  "kernelspec": {
   "display_name": "Python 3 (ipykernel)",
   "language": "python",
   "name": "python3"
  },
  "language_info": {
   "codemirror_mode": {
    "name": "ipython",
    "version": 3
   },
   "file_extension": ".py",
   "mimetype": "text/x-python",
   "name": "python",
   "nbconvert_exporter": "python",
   "pygments_lexer": "ipython3",
   "version": "3.11.7"
  }
 },
 "nbformat": 4,
 "nbformat_minor": 5
}
