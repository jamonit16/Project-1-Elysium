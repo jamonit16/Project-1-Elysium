{
 "cells": [
  {
   "cell_type": "code",
   "execution_count": 11,
   "id": "8d5df16f",
   "metadata": {
    "lines_to_next_cell": 0
   },
   "outputs": [
    {
     "name": "stdout",
     "output_type": "stream",
     "text": [
      "Defaulting to user installation because normal site-packages is not writeable\n",
      "Requirement already satisfied: python-dotenv in c:\\programdata\\anaconda3\\lib\\site-packages (0.21.0)\n"
     ]
    }
   ],
   "source": [
    "!pip install python-dotenv"
   ]
  },
  {
   "cell_type": "code",
   "execution_count": 12,
   "id": "d7263689",
   "metadata": {},
   "outputs": [],
   "source": [
    "import requests\n",
    "import pandas as pd\n",
    "from dotenv import load_dotenv\n",
    "import os"
   ]
  },
  {
   "cell_type": "code",
   "execution_count": 13,
   "id": "f9da2f59",
   "metadata": {},
   "outputs": [
    {
     "data": {
      "text/plain": [
       "True"
      ]
     },
     "execution_count": 13,
     "metadata": {},
     "output_type": "execute_result"
    }
   ],
   "source": [
    "load_dotenv()"
   ]
  },
  {
   "cell_type": "code",
   "execution_count": 14,
   "id": "c49efeba",
   "metadata": {},
   "outputs": [],
   "source": [
    "api_key = os.getenv('EPA_API_KEY')"
   ]
  },
  {
   "cell_type": "code",
   "execution_count": 15,
   "id": "e48e1768",
   "metadata": {
    "lines_to_next_cell": 1
   },
   "outputs": [],
   "source": [
    "def fetch_aqi_data(year, api_key):\n",
    "    url = 'https://aqs.epa.gov/data/api/annualData/byCBSA'\n",
    "    params = {\n",
    "        'email': 'massmediafan@gmail.com',\n",
    "        'key': api_key,\n",
    "        'param': '88101',  # Column for PM2.5\n",
    "        'bdate': f'{year}0101',\n",
    "        'edate': f'{year}1231',\n",
    "        'cbsa': cbsa  # CBSA code for Tulsa, LA and NY define later\n",
    "    }\n",
    "    response = requests.get(url, params=params)\n",
    "    data = response.json()\n"
   ]
  },
  {
   "cell_type": "code",
   "execution_count": 21,
   "id": "46ee9ac9-ed9b-4358-97c8-7a2f2524652c",
   "metadata": {},
   "outputs": [],
   "source": [
    "api_key = os.getenv('EPA_API_KEY')"
   ]
  },
  {
   "cell_type": "code",
   "execution_count": 16,
   "id": "ab2d6285",
   "metadata": {},
   "outputs": [],
   "source": [
    "# Range of years\n",
    "years = range(2014, 2024)  # Adjust this range as needed"
   ]
  },
  {
   "cell_type": "code",
   "execution_count": 22,
   "id": "13197db9-0a2c-4a9f-b17d-43b8c8710b98",
   "metadata": {},
   "outputs": [],
   "source": [
    "# CBSA codes\n",
    "cbsa_codes = {\n",
    "    'Tulsa': '35620', \n",
    "    'Los Angeles': '31080',\n",
    "    'New York': '46140'\n",
    "}"
   ]
  },
  {
   "cell_type": "code",
   "execution_count": 28,
   "id": "44e0a45e",
   "metadata": {},
   "outputs": [],
   "source": [
    "def fetch_aqi_data(year, api_key, cbsa_code):\n",
    "    # EmptyDataFrame to avoid NoneType errors\n",
    "    \n",
    "    return pd.DataFrame()  # Temporary placeholder\n",
    "\n",
    "# Concatenate data for the years and CBSA codes\n",
    "all_data = pd.DataFrame()\n",
    "\n",
    "for cbsa_name, cbsa_code in cbsa_codes.items():\n",
    "    for year in years:\n",
    "        yearly_data = fetch_aqi_data(year, api_key, cbsa_code)\n",
    "        if not yearly_data.empty:\n",
    "            yearly_data['CBSA'] = cbsa_name  # Add a column for CBSA name\n",
    "            all_data = pd.concat([all_data, yearly_data])"
   ]
  },
  {
   "cell_type": "code",
   "execution_count": 18,
   "id": "44052ba6",
   "metadata": {},
   "outputs": [],
   "source": [
    "# Reset the index\n",
    "all_data.reset_index(drop=True, inplace=True)"
   ]
  },
  {
   "cell_type": "code",
   "execution_count": 19,
   "id": "baae6d8b",
   "metadata": {},
   "outputs": [],
   "source": [
    "# Convert first max datetime for dates\n",
    "all_data['first_max_datetime'] = pd.to_datetime(all_data['first_max_datetime'])"
   ]
  },
  {
   "cell_type": "code",
   "execution_count": 20,
   "id": "7e326d25",
   "metadata": {},
   "outputs": [],
   "source": [
    "# Set date column as the index\n",
    "all_data.set_index('first_max_datetime', inplace=True)"
   ]
  },
  {
   "cell_type": "code",
   "execution_count": 10,
   "id": "3846a450",
   "metadata": {},
   "outputs": [
    {
     "name": "stdout",
     "output_type": "stream",
     "text": [
      "                   state_code county_code site_number parameter_code  poc  \\\n",
      "first_max_datetime                                                          \n",
      "2014-02-01                 36         103        0002          88101    1   \n",
      "2014-02-01                 36         103        0002          88101    1   \n",
      "2014-02-01                 36         103        0002          88101    1   \n",
      "2014-02-01                 36         103        0002          88101    1   \n",
      "2014-02-01                 36         103        0002          88101    1   \n",
      "\n",
      "                    latitude  longitude  datum                 parameter  \\\n",
      "first_max_datetime                                                         \n",
      "2014-02-01          40.74529  -73.41919  WGS84  PM2.5 - Local Conditions   \n",
      "2014-02-01          40.74529  -73.41919  WGS84  PM2.5 - Local Conditions   \n",
      "2014-02-01          40.74529  -73.41919  WGS84  PM2.5 - Local Conditions   \n",
      "2014-02-01          40.74529  -73.41919  WGS84  PM2.5 - Local Conditions   \n",
      "2014-02-01          40.74529  -73.41919  WGS84  PM2.5 - Local Conditions   \n",
      "\n",
      "                   sample_duration_code  ... fiftieth_percentile  \\\n",
      "first_max_datetime                       ...                       \n",
      "2014-02-01                            7  ...                 6.8   \n",
      "2014-02-01                            7  ...                 6.8   \n",
      "2014-02-01                            7  ...                 6.8   \n",
      "2014-02-01                            7  ...                 6.8   \n",
      "2014-02-01                            7  ...                 6.8   \n",
      "\n",
      "                   tenth_percentile local_site_name  \\\n",
      "first_max_datetime                                    \n",
      "2014-02-01                      3.2         BABYLON   \n",
      "2014-02-01                      3.2         BABYLON   \n",
      "2014-02-01                      3.2         BABYLON   \n",
      "2014-02-01                      3.2         BABYLON   \n",
      "2014-02-01                      3.2         BABYLON   \n",
      "\n",
      "                                                    site_address     state  \\\n",
      "first_max_datetime                                                           \n",
      "2014-02-01          EAST FARMINGDALE WATER DIST., 72 GAZZA BLVD.  New York   \n",
      "2014-02-01          EAST FARMINGDALE WATER DIST., 72 GAZZA BLVD.  New York   \n",
      "2014-02-01          EAST FARMINGDALE WATER DIST., 72 GAZZA BLVD.  New York   \n",
      "2014-02-01          EAST FARMINGDALE WATER DIST., 72 GAZZA BLVD.  New York   \n",
      "2014-02-01          EAST FARMINGDALE WATER DIST., 72 GAZZA BLVD.  New York   \n",
      "\n",
      "                     county              city  cbsa_code  \\\n",
      "first_max_datetime                                         \n",
      "2014-02-01          Suffolk  East Farmingdale      35620   \n",
      "2014-02-01          Suffolk  East Farmingdale      35620   \n",
      "2014-02-01          Suffolk  East Farmingdale      35620   \n",
      "2014-02-01          Suffolk  East Farmingdale      35620   \n",
      "2014-02-01          Suffolk  East Farmingdale      35620   \n",
      "\n",
      "                                                     cbsa date_of_last_change  \n",
      "first_max_datetime                                                             \n",
      "2014-02-01          New York-Newark-Jersey City, NY-NJ-PA          2024-05-18  \n",
      "2014-02-01          New York-Newark-Jersey City, NY-NJ-PA          2024-05-18  \n",
      "2014-02-01          New York-Newark-Jersey City, NY-NJ-PA          2024-05-18  \n",
      "2014-02-01          New York-Newark-Jersey City, NY-NJ-PA          2024-05-18  \n",
      "2014-02-01          New York-Newark-Jersey City, NY-NJ-PA          2024-05-18  \n",
      "\n",
      "[5 rows x 55 columns]\n",
      "                   state_code county_code site_number parameter_code  poc  \\\n",
      "first_max_datetime                                                          \n",
      "2022-12-30                 34         039        2003          88101    3   \n",
      "2022-12-30                 34         039        2003          88101    3   \n",
      "2022-12-30                 34         039        2003          88101    3   \n",
      "2022-12-30                 34         039        2003          88101    3   \n",
      "2022-12-30                 34         039        2003          88101    3   \n",
      "\n",
      "                     latitude  longitude  datum                 parameter  \\\n",
      "first_max_datetime                                                          \n",
      "2022-12-30          40.603943 -74.276174  WGS84  PM2.5 - Local Conditions   \n",
      "2022-12-30          40.603943 -74.276174  WGS84  PM2.5 - Local Conditions   \n",
      "2022-12-30          40.603943 -74.276174  WGS84  PM2.5 - Local Conditions   \n",
      "2022-12-30          40.603943 -74.276174  WGS84  PM2.5 - Local Conditions   \n",
      "2022-12-30          40.603943 -74.276174  WGS84  PM2.5 - Local Conditions   \n",
      "\n",
      "                   sample_duration_code  ... fiftieth_percentile  \\\n",
      "first_max_datetime                       ...                       \n",
      "2022-12-30                            X  ...                 6.1   \n",
      "2022-12-30                            X  ...                 6.1   \n",
      "2022-12-30                            X  ...                 6.1   \n",
      "2022-12-30                            X  ...                 6.1   \n",
      "2022-12-30                            X  ...                 6.1   \n",
      "\n",
      "                   tenth_percentile local_site_name  \\\n",
      "first_max_datetime                                    \n",
      "2022-12-30                      2.9          Rahway   \n",
      "2022-12-30                      2.9          Rahway   \n",
      "2022-12-30                      2.9          Rahway   \n",
      "2022-12-30                      2.9          Rahway   \n",
      "2022-12-30                      2.9          Rahway   \n",
      "\n",
      "                                                site_address       state  \\\n",
      "first_max_datetime                                                         \n",
      "2022-12-30          Rahway Fire Department, 1300 Main Street  New Jersey   \n",
      "2022-12-30          Rahway Fire Department, 1300 Main Street  New Jersey   \n",
      "2022-12-30          Rahway Fire Department, 1300 Main Street  New Jersey   \n",
      "2022-12-30          Rahway Fire Department, 1300 Main Street  New Jersey   \n",
      "2022-12-30          Rahway Fire Department, 1300 Main Street  New Jersey   \n",
      "\n",
      "                   county    city  cbsa_code  \\\n",
      "first_max_datetime                             \n",
      "2022-12-30          Union  Rahway      35620   \n",
      "2022-12-30          Union  Rahway      35620   \n",
      "2022-12-30          Union  Rahway      35620   \n",
      "2022-12-30          Union  Rahway      35620   \n",
      "2022-12-30          Union  Rahway      35620   \n",
      "\n",
      "                                                     cbsa date_of_last_change  \n",
      "first_max_datetime                                                             \n",
      "2022-12-30          New York-Newark-Jersey City, NY-NJ-PA          2024-05-17  \n",
      "2022-12-30          New York-Newark-Jersey City, NY-NJ-PA          2024-05-17  \n",
      "2022-12-30          New York-Newark-Jersey City, NY-NJ-PA          2024-05-17  \n",
      "2022-12-30          New York-Newark-Jersey City, NY-NJ-PA          2024-05-17  \n",
      "2022-12-30          New York-Newark-Jersey City, NY-NJ-PA          2024-05-17  \n",
      "\n",
      "[5 rows x 55 columns]\n"
     ]
    }
   ],
   "source": [
    "# View DataFrame\n",
    "print(all_data.head())\n",
    "print(all_data.tail())"
   ]
  },
  {
   "cell_type": "code",
   "execution_count": null,
   "id": "b98315ba-065a-46d2-a246-c0bffacce8a5",
   "metadata": {},
   "outputs": [],
   "source": []
  }
 ],
 "metadata": {
  "jupytext": {
   "cell_metadata_filter": "-all",
   "main_language": "python",
   "notebook_metadata_filter": "-all"
  },
  "kernelspec": {
   "display_name": "Python 3 (ipykernel)",
   "language": "python",
   "name": "python3"
  },
  "language_info": {
   "codemirror_mode": {
    "name": "ipython",
    "version": 3
   },
   "file_extension": ".py",
   "mimetype": "text/x-python",
   "name": "python",
   "nbconvert_exporter": "python",
   "pygments_lexer": "ipython3",
   "version": "3.11.7"
  }
 },
 "nbformat": 4,
 "nbformat_minor": 5
}
